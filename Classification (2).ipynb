{
  "cells": [
    {
      "cell_type": "markdown",
      "source": [
        "# **Heart Disease**"
      ],
      "metadata": {
        "id": "xKOUBoC983GL"
      }
    },
    {
      "cell_type": "markdown",
      "metadata": {
        "id": "farZI6xLUauZ"
      },
      "source": [
        "## ***Importing the necessary libraries***"
      ]
    },
    {
      "cell_type": "code",
      "execution_count": 1,
      "metadata": {
        "id": "C3LO_lXiUiH9",
        "colab": {
          "base_uri": "https://localhost:8080/"
        },
        "outputId": "6fd9821f-85f2-42fc-93cb-04a32b664482"
      },
      "outputs": [
        {
          "output_type": "stream",
          "name": "stdout",
          "text": [
            "adding path\n"
          ]
        }
      ],
      "source": [
        "import warnings\n",
        "warnings.filterwarnings('ignore')\n",
        "import os\n",
        "import csv\n",
        "import itertools\n",
        "import pandas as pd\n",
        "import numpy as np\n",
        "import seaborn as sns\n",
        "import matplotlib.pyplot as plt\n",
        "from sklearn.svm import LinearSVC,SVC\n",
        "from sklearn.multiclass import OneVsRestClassifier\n",
        "from collections import Counter\n",
        "from imblearn.over_sampling import SMOTE\n",
        "from sklearn.linear_model import LassoCV,LogisticRegression,SGDClassifier\n",
        "from sklearn.naive_bayes import GaussianNB,BernoulliNB\n",
        "from xgboost import XGBClassifier\n",
        "from sklearn.tree import DecisionTreeClassifier\n",
        "from sklearn.neighbors import KNeighborsClassifier\n",
        "from sklearn.ensemble import RandomForestClassifier,ExtraTreesClassifier,BaggingClassifier,AdaBoostClassifier,GradientBoostingClassifier,VotingClassifier,StackingClassifier\n",
        "from sklearn.feature_selection import chi2,SelectKBest,SelectFromModel,RFE,VarianceThreshold\n",
        "from sklearn.metrics import confusion_matrix,precision_recall_curve,average_precision_score,roc_curve,auc,f1_score,accuracy_score,\\\n",
        "classification_report,multilabel_confusion_matrix, roc_auc_score,precision_recall_fscore_support\n",
        "from sklearn.model_selection import cross_val_score,train_test_split,StratifiedKFold,GridSearchCV\n",
        "from sklearn.preprocessing import MinMaxScaler,StandardScaler,RobustScaler,LabelEncoder,LabelBinarizer\n",
        "from scipy import interp\n",
        "from itertools import cycle\n",
        "plt.style.use('ggplot');\n",
        "import sys\n",
        "if (\"/your/path/to/xelatex\") not in sys.path:\n",
        "    print('adding path') # I just add this to know if the path was present or not.\n",
        "    sys.path.append(\"/your/path/to/xelatex\")"
      ]
    },
    {
      "cell_type": "markdown",
      "metadata": {
        "id": "onMX7XXTSU0B"
      },
      "source": [
        "# **Data**"
      ]
    },
    {
      "cell_type": "markdown",
      "metadata": {
        "id": "Mh5LNnChU1cE"
      },
      "source": [
        "### *Reading the data*"
      ]
    },
    {
      "cell_type": "code",
      "execution_count": 2,
      "metadata": {
        "id": "Yx3FDNToSY2f",
        "colab": {
          "base_uri": "https://localhost:8080/",
          "height": 206
        },
        "outputId": "8c8ddb86-0a02-4d6c-8b39-348b212bf7b3"
      },
      "outputs": [
        {
          "output_type": "execute_result",
          "data": {
            "text/plain": [
              "    age   sex      cp  trestbps   chol   fbs restecg  thalach exang  oldpeak  \\\n",
              "0  63.0  male  angina     145.0  233.0  true     hyp    150.0   fal      2.3   \n",
              "1  67.0  male  asympt     160.0  286.0   fal     hyp    108.0  true      1.5   \n",
              "2  67.0  male  asympt     120.0  229.0   fal     hyp    129.0  true      2.6   \n",
              "3  37.0  male  notang     130.0  250.0   fal    norm    187.0   fal      3.5   \n",
              "4  41.0   fem  abnang     130.0  204.0   fal     hyp    172.0   fal      1.4   \n",
              "\n",
              "  slope   ca  thal target  \n",
              "0  down  0.0   fix      H  \n",
              "1  flat  3.0  norm     S2  \n",
              "2  flat  2.0   rev     S1  \n",
              "3  down  0.0  norm      H  \n",
              "4    up  0.0  norm      H  "
            ],
            "text/html": [
              "\n",
              "  <div id=\"df-936a39a7-77de-49d0-881b-ff6d714bfe44\">\n",
              "    <div class=\"colab-df-container\">\n",
              "      <div>\n",
              "<style scoped>\n",
              "    .dataframe tbody tr th:only-of-type {\n",
              "        vertical-align: middle;\n",
              "    }\n",
              "\n",
              "    .dataframe tbody tr th {\n",
              "        vertical-align: top;\n",
              "    }\n",
              "\n",
              "    .dataframe thead th {\n",
              "        text-align: right;\n",
              "    }\n",
              "</style>\n",
              "<table border=\"1\" class=\"dataframe\">\n",
              "  <thead>\n",
              "    <tr style=\"text-align: right;\">\n",
              "      <th></th>\n",
              "      <th>age</th>\n",
              "      <th>sex</th>\n",
              "      <th>cp</th>\n",
              "      <th>trestbps</th>\n",
              "      <th>chol</th>\n",
              "      <th>fbs</th>\n",
              "      <th>restecg</th>\n",
              "      <th>thalach</th>\n",
              "      <th>exang</th>\n",
              "      <th>oldpeak</th>\n",
              "      <th>slope</th>\n",
              "      <th>ca</th>\n",
              "      <th>thal</th>\n",
              "      <th>target</th>\n",
              "    </tr>\n",
              "  </thead>\n",
              "  <tbody>\n",
              "    <tr>\n",
              "      <th>0</th>\n",
              "      <td>63.0</td>\n",
              "      <td>male</td>\n",
              "      <td>angina</td>\n",
              "      <td>145.0</td>\n",
              "      <td>233.0</td>\n",
              "      <td>true</td>\n",
              "      <td>hyp</td>\n",
              "      <td>150.0</td>\n",
              "      <td>fal</td>\n",
              "      <td>2.3</td>\n",
              "      <td>down</td>\n",
              "      <td>0.0</td>\n",
              "      <td>fix</td>\n",
              "      <td>H</td>\n",
              "    </tr>\n",
              "    <tr>\n",
              "      <th>1</th>\n",
              "      <td>67.0</td>\n",
              "      <td>male</td>\n",
              "      <td>asympt</td>\n",
              "      <td>160.0</td>\n",
              "      <td>286.0</td>\n",
              "      <td>fal</td>\n",
              "      <td>hyp</td>\n",
              "      <td>108.0</td>\n",
              "      <td>true</td>\n",
              "      <td>1.5</td>\n",
              "      <td>flat</td>\n",
              "      <td>3.0</td>\n",
              "      <td>norm</td>\n",
              "      <td>S2</td>\n",
              "    </tr>\n",
              "    <tr>\n",
              "      <th>2</th>\n",
              "      <td>67.0</td>\n",
              "      <td>male</td>\n",
              "      <td>asympt</td>\n",
              "      <td>120.0</td>\n",
              "      <td>229.0</td>\n",
              "      <td>fal</td>\n",
              "      <td>hyp</td>\n",
              "      <td>129.0</td>\n",
              "      <td>true</td>\n",
              "      <td>2.6</td>\n",
              "      <td>flat</td>\n",
              "      <td>2.0</td>\n",
              "      <td>rev</td>\n",
              "      <td>S1</td>\n",
              "    </tr>\n",
              "    <tr>\n",
              "      <th>3</th>\n",
              "      <td>37.0</td>\n",
              "      <td>male</td>\n",
              "      <td>notang</td>\n",
              "      <td>130.0</td>\n",
              "      <td>250.0</td>\n",
              "      <td>fal</td>\n",
              "      <td>norm</td>\n",
              "      <td>187.0</td>\n",
              "      <td>fal</td>\n",
              "      <td>3.5</td>\n",
              "      <td>down</td>\n",
              "      <td>0.0</td>\n",
              "      <td>norm</td>\n",
              "      <td>H</td>\n",
              "    </tr>\n",
              "    <tr>\n",
              "      <th>4</th>\n",
              "      <td>41.0</td>\n",
              "      <td>fem</td>\n",
              "      <td>abnang</td>\n",
              "      <td>130.0</td>\n",
              "      <td>204.0</td>\n",
              "      <td>fal</td>\n",
              "      <td>hyp</td>\n",
              "      <td>172.0</td>\n",
              "      <td>fal</td>\n",
              "      <td>1.4</td>\n",
              "      <td>up</td>\n",
              "      <td>0.0</td>\n",
              "      <td>norm</td>\n",
              "      <td>H</td>\n",
              "    </tr>\n",
              "  </tbody>\n",
              "</table>\n",
              "</div>\n",
              "      <button class=\"colab-df-convert\" onclick=\"convertToInteractive('df-936a39a7-77de-49d0-881b-ff6d714bfe44')\"\n",
              "              title=\"Convert this dataframe to an interactive table.\"\n",
              "              style=\"display:none;\">\n",
              "        \n",
              "  <svg xmlns=\"http://www.w3.org/2000/svg\" height=\"24px\"viewBox=\"0 0 24 24\"\n",
              "       width=\"24px\">\n",
              "    <path d=\"M0 0h24v24H0V0z\" fill=\"none\"/>\n",
              "    <path d=\"M18.56 5.44l.94 2.06.94-2.06 2.06-.94-2.06-.94-.94-2.06-.94 2.06-2.06.94zm-11 1L8.5 8.5l.94-2.06 2.06-.94-2.06-.94L8.5 2.5l-.94 2.06-2.06.94zm10 10l.94 2.06.94-2.06 2.06-.94-2.06-.94-.94-2.06-.94 2.06-2.06.94z\"/><path d=\"M17.41 7.96l-1.37-1.37c-.4-.4-.92-.59-1.43-.59-.52 0-1.04.2-1.43.59L10.3 9.45l-7.72 7.72c-.78.78-.78 2.05 0 2.83L4 21.41c.39.39.9.59 1.41.59.51 0 1.02-.2 1.41-.59l7.78-7.78 2.81-2.81c.8-.78.8-2.07 0-2.86zM5.41 20L4 18.59l7.72-7.72 1.47 1.35L5.41 20z\"/>\n",
              "  </svg>\n",
              "      </button>\n",
              "      \n",
              "  <style>\n",
              "    .colab-df-container {\n",
              "      display:flex;\n",
              "      flex-wrap:wrap;\n",
              "      gap: 12px;\n",
              "    }\n",
              "\n",
              "    .colab-df-convert {\n",
              "      background-color: #E8F0FE;\n",
              "      border: none;\n",
              "      border-radius: 50%;\n",
              "      cursor: pointer;\n",
              "      display: none;\n",
              "      fill: #1967D2;\n",
              "      height: 32px;\n",
              "      padding: 0 0 0 0;\n",
              "      width: 32px;\n",
              "    }\n",
              "\n",
              "    .colab-df-convert:hover {\n",
              "      background-color: #E2EBFA;\n",
              "      box-shadow: 0px 1px 2px rgba(60, 64, 67, 0.3), 0px 1px 3px 1px rgba(60, 64, 67, 0.15);\n",
              "      fill: #174EA6;\n",
              "    }\n",
              "\n",
              "    [theme=dark] .colab-df-convert {\n",
              "      background-color: #3B4455;\n",
              "      fill: #D2E3FC;\n",
              "    }\n",
              "\n",
              "    [theme=dark] .colab-df-convert:hover {\n",
              "      background-color: #434B5C;\n",
              "      box-shadow: 0px 1px 3px 1px rgba(0, 0, 0, 0.15);\n",
              "      filter: drop-shadow(0px 1px 2px rgba(0, 0, 0, 0.3));\n",
              "      fill: #FFFFFF;\n",
              "    }\n",
              "  </style>\n",
              "\n",
              "      <script>\n",
              "        const buttonEl =\n",
              "          document.querySelector('#df-936a39a7-77de-49d0-881b-ff6d714bfe44 button.colab-df-convert');\n",
              "        buttonEl.style.display =\n",
              "          google.colab.kernel.accessAllowed ? 'block' : 'none';\n",
              "\n",
              "        async function convertToInteractive(key) {\n",
              "          const element = document.querySelector('#df-936a39a7-77de-49d0-881b-ff6d714bfe44');\n",
              "          const dataTable =\n",
              "            await google.colab.kernel.invokeFunction('convertToInteractive',\n",
              "                                                     [key], {});\n",
              "          if (!dataTable) return;\n",
              "\n",
              "          const docLinkHtml = 'Like what you see? Visit the ' +\n",
              "            '<a target=\"_blank\" href=https://colab.research.google.com/notebooks/data_table.ipynb>data table notebook</a>'\n",
              "            + ' to learn more about interactive tables.';\n",
              "          element.innerHTML = '';\n",
              "          dataTable['output_type'] = 'display_data';\n",
              "          await google.colab.output.renderOutput(dataTable, element);\n",
              "          const docLink = document.createElement('div');\n",
              "          docLink.innerHTML = docLinkHtml;\n",
              "          element.appendChild(docLink);\n",
              "        }\n",
              "      </script>\n",
              "    </div>\n",
              "  </div>\n",
              "  "
            ]
          },
          "metadata": {},
          "execution_count": 2
        }
      ],
      "source": [
        "with open('/content/drive/MyDrive/AI&ML internship /heart Disease/cleve.mod', 'r') as in_file:\n",
        "    lines = in_file.read().splitlines()[20:]\n",
        "    stripped = [line.replace(\",\",\" \").split() for line in lines]\n",
        "    grouped = zip(*[stripped]*1)\n",
        "    with open('cleve.csv', 'w') as out_file:\n",
        "        writer = csv.writer(out_file)\n",
        "        for group in grouped:\n",
        "            writer.writerows(group)\n",
        "\n",
        "names = [\n",
        "    'age', 'sex','cp','trestbps','chol','fbs','restecg','thalach',\n",
        "    'exang','oldpeak','slope','ca','thal','target'\n",
        "]\n",
        "df = pd.read_csv('cleve.csv',header=None)\n",
        "df.drop(13, inplace=True,axis=1)\n",
        "df.columns = names\n",
        "df.head()"
      ]
    },
    {
      "cell_type": "markdown",
      "metadata": {
        "id": "V8040thrVOX7"
      },
      "source": [
        "### **Data Description**\n",
        "\n",
        "\n",
        "* **age**: The age of the person in years\n",
        "* **sex**: Gender (1:male, 0:female)\n",
        "* **cp**: Type of chest pain (typical angina, atypical angina, non — anginal pain,asymptotic)\n",
        "* **trestbps**: The resting blood pressure value of in mmHg\n",
        "* **chol**: The the serum cholesterol in mg/dl (unit)\n",
        "* **fbs** : True: fasting blood sugar>120mg/dl, False:otherwise\n",
        "* **restecg**: The resting electrocardiographic results (normal,having ST-T  wave abnormality,left ventricular hyperthrophy)\n",
        "* **thalach**: The the maximum heart rate achieved by an individual.\n",
        "* **exang**: Exercise induced angina(True:Yes, False:No)\n",
        "* **oldpeak**: ST depression induced by exercise relative to rest\n",
        "* **slope:**: Peak exercise ST segment(upsloping,flat,downsloping)\n",
        "* **ca:**: Number of major vessels (0–3) colored by flourosopy\n",
        "* **thal**:Thalassemia disorder(normal,fixed defect,reversible defect)\n",
        "* **target**:(H = absence , [S1, S2, S3, S4] = present.)\n",
        "\n"
      ]
    },
    {
      "cell_type": "markdown",
      "metadata": {
        "id": "-57Or1SaZYYy"
      },
      "source": [
        "### Data Summary and cleaning"
      ]
    },
    {
      "cell_type": "code",
      "execution_count": 3,
      "metadata": {
        "id": "ry7TNJ4wZbtY",
        "colab": {
          "base_uri": "https://localhost:8080/"
        },
        "outputId": "adc2f68e-518c-48eb-8462-be21ba9e3579"
      },
      "outputs": [
        {
          "output_type": "execute_result",
          "data": {
            "text/plain": [
              "(303, 14)"
            ]
          },
          "metadata": {},
          "execution_count": 3
        }
      ],
      "source": [
        "df.shape"
      ]
    },
    {
      "cell_type": "code",
      "execution_count": 4,
      "metadata": {
        "id": "8ZwVVddnZige",
        "colab": {
          "base_uri": "https://localhost:8080/"
        },
        "outputId": "3feb1c70-0357-4962-c391-8e85b614d144"
      },
      "outputs": [
        {
          "output_type": "execute_result",
          "data": {
            "text/plain": [
              "age         float64\n",
              "sex          object\n",
              "cp           object\n",
              "trestbps    float64\n",
              "chol        float64\n",
              "fbs          object\n",
              "restecg      object\n",
              "thalach     float64\n",
              "exang        object\n",
              "oldpeak     float64\n",
              "slope        object\n",
              "ca           object\n",
              "thal         object\n",
              "target       object\n",
              "dtype: object"
            ]
          },
          "metadata": {},
          "execution_count": 4
        }
      ],
      "source": [
        "df.dtypes"
      ]
    },
    {
      "cell_type": "code",
      "execution_count": 5,
      "metadata": {
        "id": "H9IC-SY-Zkk8",
        "colab": {
          "base_uri": "https://localhost:8080/"
        },
        "outputId": "c6b83ccf-2bf5-4505-ee6a-7c8a1cdb5f73"
      },
      "outputs": [
        {
          "output_type": "stream",
          "name": "stdout",
          "text": [
            "<class 'pandas.core.frame.DataFrame'>\n",
            "RangeIndex: 303 entries, 0 to 302\n",
            "Data columns (total 14 columns):\n",
            " #   Column    Non-Null Count  Dtype  \n",
            "---  ------    --------------  -----  \n",
            " 0   age       303 non-null    float64\n",
            " 1   sex       303 non-null    object \n",
            " 2   cp        303 non-null    object \n",
            " 3   trestbps  303 non-null    float64\n",
            " 4   chol      303 non-null    float64\n",
            " 5   fbs       303 non-null    object \n",
            " 6   restecg   303 non-null    object \n",
            " 7   thalach   303 non-null    float64\n",
            " 8   exang     303 non-null    object \n",
            " 9   oldpeak   303 non-null    float64\n",
            " 10  slope     303 non-null    object \n",
            " 11  ca        303 non-null    object \n",
            " 12  thal      303 non-null    object \n",
            " 13  target    303 non-null    object \n",
            "dtypes: float64(5), object(9)\n",
            "memory usage: 172.8 KB\n"
          ]
        }
      ],
      "source": [
        "df.info(memory_usage='deep')"
      ]
    },
    {
      "cell_type": "markdown",
      "metadata": {
        "id": "ERRAuDFQZ5NB"
      },
      "source": [
        " *For the sake of EDA,let **H** a healthy person and **S1,S2,S3,S4** represent sick patients and also create a copy of the dataframe, so that it can be used later*"
      ]
    },
    {
      "cell_type": "code",
      "execution_count": 6,
      "metadata": {
        "id": "v6Ha9mgQZtZB"
      },
      "outputs": [],
      "source": [
        "df['ca'].replace(to_replace = '?', value = 4, inplace=True)\n",
        "df['ca'] = pd.to_numeric(df['ca'])\n",
        "df_copy = df.copy()\n",
        "df['target'].replace(['S[0-9]', 'H'], [1,0], regex=True, inplace=True)"
      ]
    },
    {
      "cell_type": "code",
      "execution_count": 7,
      "metadata": {
        "id": "nRofl7HNaWQ8",
        "colab": {
          "base_uri": "https://localhost:8080/"
        },
        "outputId": "21652560-7108-4066-8516-b604b9811c28"
      },
      "outputs": [
        {
          "output_type": "stream",
          "name": "stdout",
          "text": [
            "Dataset shape before dropping duplicates: (303, 14)\n",
            "Dataset shape after dropping duplicates: (302, 14)\n"
          ]
        }
      ],
      "source": [
        "print(f\"Dataset shape before dropping duplicates: {df.shape}\")\n",
        "df = df.drop_duplicates()\n",
        "df_copy = df_copy.drop_duplicates()\n",
        "print(f\"Dataset shape after dropping duplicates: {df.shape}\")"
      ]
    },
    {
      "cell_type": "markdown",
      "metadata": {
        "id": "kYVc2_V3Es4g"
      },
      "source": [
        "*No **Nan** values in the data.*"
      ]
    },
    {
      "cell_type": "code",
      "execution_count": 8,
      "metadata": {
        "id": "Rlg4RXiTEo39",
        "colab": {
          "base_uri": "https://localhost:8080/"
        },
        "outputId": "75ab01f3-ee57-48fd-a338-ddbde79d5930"
      },
      "outputs": [
        {
          "output_type": "execute_result",
          "data": {
            "text/plain": [
              "0"
            ]
          },
          "metadata": {},
          "execution_count": 8
        }
      ],
      "source": [
        "df.isna().sum().sum()"
      ]
    },
    {
      "cell_type": "markdown",
      "metadata": {
        "id": "5KUiFA7CafzM"
      },
      "source": [
        "# **EDA**"
      ]
    },
    {
      "cell_type": "markdown",
      "metadata": {
        "id": "577EaEEJatAq"
      },
      "source": [
        "## **Categorical Variables**"
      ]
    },
    {
      "cell_type": "markdown",
      "metadata": {
        "id": "Q55XXo6SbCun"
      },
      "source": [
        "### *Target*\n",
        "\n"
      ]
    },
    {
      "cell_type": "code",
      "execution_count": 9,
      "metadata": {
        "id": "vzi2PU-dam0Y",
        "colab": {
          "base_uri": "https://localhost:8080/",
          "height": 282
        },
        "outputId": "83ecde1a-6591-4a84-f284-43d9667e13a5"
      },
      "outputs": [
        {
          "output_type": "display_data",
          "data": {
            "text/plain": [
              "<Figure size 432x288 with 1 Axes>"
            ],
            "image/png": "[encoded data removed]"
          },
          "metadata": {
            "needs_background": "light"
          }
        }
      ],
      "source": [
        "sns.countplot(data = df, x='target');\n",
        "plt.xticks(rotation=0, weight='bold');"
      ]
    },
    {
      "cell_type": "markdown",
      "metadata": {
        "id": "xDOVwbtTcehy"
      },
      "source": [
        "### *Sex*"
      ]
    },
    {
      "cell_type": "code",
      "execution_count": 10,
      "metadata": {
        "id": "Yc4zgfsJbRT2",
        "colab": {
          "base_uri": "https://localhost:8080/",
          "height": 500
        },
        "outputId": "c4f2209a-ffdb-4dcb-d2de-56c091c26ea7"
      },
      "outputs": [
        {
          "output_type": "display_data",
          "data": {
            "text/plain": [
              "<Figure size 720x576 with 1 Axes>"
            ],
            "image/png": "[encoded data removed]"
          },
          "metadata": {
            "needs_background": "light"
          }
        }
      ],
      "source": [
        "pd.crosstab(index=df.sex, columns=df.target).plot(kind='bar',figsize=(10,8))\n",
        "plt.xticks(rotation=0)\n",
        "# plt.xlabel('False: [fbs<120]  True:[fbs > 120]', weight='bold')\n",
        "plt.legend(['Not Diseased', 'Diseased']);"
      ]
    },
    {
      "cell_type": "markdown",
      "metadata": {
        "id": "opbxIbLbcrbE"
      },
      "source": [
        "### *FBS*"
      ]
    },
    {
      "cell_type": "code",
      "execution_count": 11,
      "metadata": {
        "id": "pyaFpAq5clOA",
        "colab": {
          "base_uri": "https://localhost:8080/",
          "height": 500
        },
        "outputId": "10925041-9671-4556-ee93-ae48f51e0aa1"
      },
      "outputs": [
        {
          "output_type": "display_data",
          "data": {
            "text/plain": [
              "<Figure size 720x576 with 1 Axes>"
            ],
            "image/png": "[encoded data removed]"
          },
          "metadata": {
            "needs_background": "light"
          }
        }
      ],
      "source": [
        "pd.crosstab(index=df.fbs, columns=df.target).plot(kind='bar',figsize=(10,8))\n",
        "plt.xticks(rotation=0)\n",
        "plt.xlabel('False: [fbs<120]  True:[fbs > 120]', weight='bold')\n",
        "plt.legend(['Not Diseased', 'Diseased']);"
      ]
    },
    {
      "cell_type": "markdown",
      "metadata": {
        "id": "JC1FHSqkdliQ"
      },
      "source": [
        "### *Exang*"
      ]
    },
    {
      "cell_type": "code",
      "execution_count": 12,
      "metadata": {
        "id": "vQa2TfM8dBr1",
        "colab": {
          "base_uri": "https://localhost:8080/",
          "height": 500
        },
        "outputId": "f8b77823-b100-4676-8569-c5ac90b8cffd"
      },
      "outputs": [
        {
          "output_type": "display_data",
          "data": {
            "text/plain": [
              "<Figure size 720x576 with 1 Axes>"
            ],
            "image/png": "[encoded data removed]"
          },
          "metadata": {
            "needs_background": "light"
          }
        }
      ],
      "source": [
        "pd.crosstab(index=df.exang, columns = df.target).plot(kind='bar',figsize=(10,8))\n",
        "plt.xticks(rotation=0,weight='bold')\n",
        "plt.legend(['Not Diseased', 'Diseased']);\n",
        "plt.ylabel('Count');"
      ]
    },
    {
      "cell_type": "markdown",
      "metadata": {
        "id": "mrfS58umnpio"
      },
      "source": [
        "### *Chest pain type*"
      ]
    },
    {
      "cell_type": "code",
      "execution_count": 13,
      "metadata": {
        "id": "nj3ARKDKhKsD",
        "colab": {
          "base_uri": "https://localhost:8080/",
          "height": 500
        },
        "outputId": "69ea4124-d36f-4a95-a15d-4388e9083969"
      },
      "outputs": [
        {
          "output_type": "display_data",
          "data": {
            "text/plain": [
              "<Figure size 720x576 with 1 Axes>"
            ],
            "image/png": "[encoded data removed]"
          },
          "metadata": {
            "needs_background": "light"
          }
        }
      ],
      "source": [
        "pd.crosstab(index=df.cp, columns= df.target).plot(kind='bar',figsize=(10,8))\n",
        "plt.xticks(rotation=0)\n",
        "plt.legend(['Not Diseased', 'Diseased']);\n",
        "plt.ylabel('Count');"
      ]
    },
    {
      "cell_type": "markdown",
      "metadata": {
        "id": "wZ4cWyu6oRyA"
      },
      "source": [
        "### Number of vessels colored by fluroscopy (ca)"
      ]
    },
    {
      "cell_type": "code",
      "execution_count": 14,
      "metadata": {
        "id": "cT62Vesgntm9",
        "colab": {
          "base_uri": "https://localhost:8080/",
          "height": 500
        },
        "outputId": "02de05e0-10ca-4603-85e2-56038d4affa1"
      },
      "outputs": [
        {
          "output_type": "display_data",
          "data": {
            "text/plain": [
              "<Figure size 720x576 with 1 Axes>"
            ],
            "image/png": "[encoded data removed]"
          },
          "metadata": {
            "needs_background": "light"
          }
        }
      ],
      "source": [
        "pd.crosstab(index=df.ca, columns= df.target).plot(kind='bar',figsize=(10,8))\n",
        "plt.xticks(rotation=0)\n",
        "plt.legend(['Not Diseased', 'Diseased']);\n",
        "plt.ylabel('Count');"
      ]
    },
    {
      "cell_type": "markdown",
      "metadata": {
        "id": "RRJaFiWGoXli"
      },
      "source": [
        "### Slope of the Peak exercise ST segment (slope)"
      ]
    },
    {
      "cell_type": "code",
      "execution_count": 15,
      "metadata": {
        "id": "_nTx9BCDoWmq",
        "colab": {
          "base_uri": "https://localhost:8080/",
          "height": 500
        },
        "outputId": "fb5c7a18-1088-400d-bc82-5a3da30a9abb"
      },
      "outputs": [
        {
          "output_type": "display_data",
          "data": {
            "text/plain": [
              "<Figure size 720x576 with 1 Axes>"
            ],
            "image/png": "[encoded data removed]"
          },
          "metadata": {
            "needs_background": "light"
          }
        }
      ],
      "source": [
        "pd.crosstab(index=df.slope, columns= df.target).plot(kind='bar',figsize=(10,8))\n",
        "plt.xticks(rotation=0)\n",
        "plt.legend(['Not Diseased', 'Diseased']);\n",
        "plt.ylabel('Count');"
      ]
    },
    {
      "cell_type": "markdown",
      "metadata": {
        "id": "KEHmW6a3oglh"
      },
      "source": [
        "### *Resting ECG*"
      ]
    },
    {
      "cell_type": "code",
      "execution_count": 16,
      "metadata": {
        "id": "SyFOmcZWodQ3",
        "colab": {
          "base_uri": "https://localhost:8080/",
          "height": 500
        },
        "outputId": "ae442d14-0c03-464b-fef4-67e2ebc24243"
      },
      "outputs": [
        {
          "output_type": "display_data",
          "data": {
            "text/plain": [
              "<Figure size 720x576 with 1 Axes>"
            ],
            "image/png": "[encoded data removed]"
          },
          "metadata": {
            "needs_background": "light"
          }
        }
      ],
      "source": [
        "pd.crosstab(index=df.restecg, columns= df.target).plot(kind='bar',figsize=(10,8))\n",
        "plt.xticks(rotation=0)\n",
        "plt.legend(['Not Diseased', 'Diseased']);\n",
        "plt.ylabel('Count');"
      ]
    },
    {
      "cell_type": "markdown",
      "metadata": {
        "id": "YCMxNwwZo1fZ"
      },
      "source": [
        "### *Thal*"
      ]
    },
    {
      "cell_type": "code",
      "execution_count": 17,
      "metadata": {
        "id": "WN1o1PXHoz9J",
        "colab": {
          "base_uri": "https://localhost:8080/",
          "height": 500
        },
        "outputId": "c6ffdb8d-1692-439b-c2f3-be4d16033074"
      },
      "outputs": [
        {
          "output_type": "display_data",
          "data": {
            "text/plain": [
              "<Figure size 720x576 with 1 Axes>"
            ],
            "image/png": "[encoded data removed]"
          },
          "metadata": {
            "needs_background": "light"
          }
        }
      ],
      "source": [
        "pd.crosstab(index=df.thal, columns= df.target).plot(kind='bar',figsize=(10,8))\n",
        "plt.xticks(rotation=0)\n",
        "plt.ylabel('Count');"
      ]
    },
    {
      "cell_type": "markdown",
      "metadata": {
        "id": "2Iwu1HORpb34"
      },
      "source": [
        "### **Observations**\n",
        "\n",
        "1.   Men are at greater risk of heart disease than pre-menopausal women. Once past menopause, it has been argued that a woman’s risk is similar to a man’s although more recent data from the WHO and UN disputes this. If a female has diabetes, she is more likely to develop heart disease than a male with diabetes.\n",
        "\n",
        "2.   Suprisingly, individuals with fbs less than 120 are more likely to be diseased than the people with higher levels of blood sugar level. This wasn't the expected outcome, as higher blood sugar levels usually corresponds to higher blood pressure, which in-turn increases the risk of contracting a heart disease.\n",
        "\n",
        "3. The pain or discomfort associated with angina usually feels tight, gripping or squeezing, and can vary from mild to severe. Angina is usually felt in the center of your chest but may spread to either or both of your shoulders, or your back, neck, jaw or arm. It can be seen from the bar chart,that the chances of people being diseased when the chest pain is caused due to exercise is very similiar to the opposite scenario.\n",
        "\n",
        "4. Most of the heart disease patients are found to have asymptomatic chest pain. These group of people might show atypical symptoms like indigestion, flu or a strained chest muscle. A asymptomatic attack, like any heart attack, involves, blockage of blood flow to your heart and possible damage to the heart muscle.\n",
        "\n",
        "6. The more the number of major vessels, the lesser are the chances of getting a heart disease. The same can be observed, from the bar chart of **ca** column, where the number of vessels coloured by fluroscopy is inversely proportional to the number of positive cases.\n",
        "\n",
        "7.  In general, the occurrence of horizontal or down-sloping ST-segment depression at a lower workload (calculated in METs) or heart rate indicates a worse prognosis and higher likelihood of multi-vessel disease. Patients gaving ST-segment elevation > 1 mm are frequently referred urgently for coronary angiography.\n",
        "\n",
        "6.  For people at low risk of cardiovascular disease, the USPSTF concludes with moderate certainty that the potential harms of screening with resting or exercise ECG equal or exceed the potential benefits. For people at intermediate to high risk, current evidence is insufficient to assess the balance of benefits and harms of screening.\n"
      ]
    },
    {
      "cell_type": "markdown",
      "metadata": {
        "id": "Bhnuv-qltLxy"
      },
      "source": [
        "## **Continuous Variables**"
      ]
    },
    {
      "cell_type": "markdown",
      "metadata": {
        "id": "HXskZlmptiwg"
      },
      "source": [
        "### *Univariate Analysis*"
      ]
    },
    {
      "cell_type": "code",
      "execution_count": 18,
      "metadata": {
        "id": "kPEMjChOtxi3",
        "colab": {
          "base_uri": "https://localhost:8080/"
        },
        "outputId": "b61e6a07-2d26-4b8f-e792-cc979e68bd84"
      },
      "outputs": [
        {
          "output_type": "stream",
          "name": "stdout",
          "text": [
            "age skew: -0.20374327959596902\n",
            "trestbps skew: 0.7165414326647316\n",
            "chol skew: 1.147332413980798\n",
            "thalach skew: -0.5326712468229612\n",
            "oldpeak skew: 1.2661727209102194\n"
          ]
        }
      ],
      "source": [
        "cont_cols = ['age','trestbps','chol','thalach','oldpeak']\n",
        "for col in cont_cols:\n",
        "  print(f\"{col} skew: {df[col].skew()}\")"
      ]
    },
    {
      "cell_type": "code",
      "execution_count": 19,
      "metadata": {
        "id": "DRGLsI8do76t",
        "colab": {
          "base_uri": "https://localhost:8080/",
          "height": 259
        },
        "outputId": "f35c3762-0e81-482a-9e33-c43edcd0b14e"
      },
      "outputs": [
        {
          "output_type": "display_data",
          "data": {
            "text/plain": [
              "<Figure size 2160x432 with 5 Axes>"
            ],
            "image/png": "[encoded data removed]"
          },
          "metadata": {
            "needs_background": "light"
          }
        }
      ],
      "source": [
        "color = ['r','g','b','yellow','orange']\n",
        "f, ax = plt.subplots(1,5, figsize=(30,6))\n",
        "\n",
        "for i,ax in enumerate(ax):\n",
        "  x = pd.Series(df[cont_cols[i]], name=cont_cols[i])\n",
        "  g = sns.kdeplot(x, shade=True, color=color[i],ax=ax)\n"
      ]
    },
    {
      "cell_type": "code",
      "execution_count": 20,
      "metadata": {
        "id": "TgJpAOCdtuIz",
        "colab": {
          "base_uri": "https://localhost:8080/",
          "height": 265
        },
        "outputId": "136c9c08-d5f9-47e7-d2e5-c1637dff3426"
      },
      "outputs": [
        {
          "output_type": "display_data",
          "data": {
            "text/plain": [
              "<Figure size 2160x432 with 5 Axes>"
            ],
            "image/png": "[encoded data removed]"
          },
          "metadata": {
            "needs_background": "light"
          }
        }
      ],
      "source": [
        "f, ax = plt.subplots(1,5, figsize=(30,6))\n",
        "for i,ax in enumerate(ax):\n",
        "  sns.boxplot(x = cont_cols[i],data = df, ax=ax, color = color[i]);\n"
      ]
    },
    {
      "cell_type": "markdown",
      "metadata": {
        "id": "HVke-vePuP4W"
      },
      "source": [
        "#### **Observations**\n",
        "\n",
        "\n",
        "\n",
        "1.   Trestbps, chol and oldpeak are right skewed.\n",
        "\n",
        "2.   Thalach is left skewed.\n",
        "\n",
        "3. Trestbps, chol and oldpeak features have outliers on the right hand side.\n",
        "\n",
        "4. Thalach has outliers on the left hand side\n"
      ]
    },
    {
      "cell_type": "markdown",
      "metadata": {
        "id": "AhlNtbdwvAS4"
      },
      "source": [
        "### *Bivariate Analysis*"
      ]
    },
    {
      "cell_type": "code",
      "execution_count": 21,
      "metadata": {
        "id": "0oJYqyx7uEo2",
        "colab": {
          "base_uri": "https://localhost:8080/",
          "height": 260
        },
        "outputId": "5b775c80-bd14-4c73-c029-b7d2d4175ff0"
      },
      "outputs": [
        {
          "output_type": "display_data",
          "data": {
            "text/plain": [
              "<Figure size 2160x432 with 5 Axes>"
            ],
            "image/png": "[encoded data removed]"
          },
          "metadata": {
            "needs_background": "light"
          }
        }
      ],
      "source": [
        "f, ax = plt.subplots(1,5,figsize=(30, 6));\n",
        "sns.boxplot(x=\"target\", y=\"age\", data=df,ax=ax[0]);\n",
        "sns.boxplot(x=\"target\", y=\"trestbps\", data=df,ax = ax[1]);\n",
        "sns.boxplot(x=\"target\", y=\"chol\", data=df,ax = ax[2]);\n",
        "sns.boxplot(x=\"target\", y=\"thalach\", data=df,ax = ax[3]);\n",
        "sns.boxplot(x=\"target\", y=\"oldpeak\", data=df,ax = ax[4]);\n"
      ]
    },
    {
      "cell_type": "markdown",
      "metadata": {
        "id": "UDjmYTQix1ho"
      },
      "source": [
        "#### **Observations**\n",
        "\n",
        "\n",
        "\n",
        "1.   Age is one of the most important risk factor in developing cardiovascular or heart diseases, with approximately a tripling of risk with each decade of life. Coronary fatty streaks can begin to form in adolescence. It is estimated that 82 percent of people who die of coronary heart disease are 65 and older. Simultaneously, the risk of stroke doubles every decade after age 55.\n",
        "\n",
        "2.   Over time, high blood pressure can damage arteries that feed your heart. High blood pressure that occurs with other conditions, such as obesity, high cholesterol or diabetes, increases your risk even more.\n",
        "\n",
        "3. A high level of low-density lipoprotein (LDL) cholesterol (the “bad” cholesterol) is most likely to narrow arteries. A high level of triglycerides, a type of blood fat related to your diet, also ups your risk of a heart attack. However, a high level of high-density lipoprotein (HDL) cholesterol (the “good” cholesterol) lowers your risk of a heart attack.\n",
        "\n",
        "4. Oldpeak is greater in diseased patients as compared to the non-diseased patients\n",
        "\n"
      ]
    },
    {
      "cell_type": "markdown",
      "metadata": {
        "id": "snBbKGx4yuzc"
      },
      "source": [
        "### *Multivariate Analysis*"
      ]
    },
    {
      "cell_type": "markdown",
      "metadata": {
        "id": "FqBKeHm_zAwN"
      },
      "source": [
        "\n",
        "\n",
        "1.   Since, the target feature represents the presence or absence of a heart diesease, let's find the correlation of the features w.r.t. to the target.\n",
        "2.   In order to do so, we need to label encode our categorical features\n",
        "\n"
      ]
    },
    {
      "cell_type": "code",
      "execution_count": 22,
      "metadata": {
        "id": "I-k3oiLKy6iF"
      },
      "outputs": [],
      "source": [
        "df = df_copy\n",
        "df['sex'].replace(to_replace=['male','fem'], value = [1,0],inplace=True)\n",
        "df['cp'].replace(to_replace = ['asympt','abnang','notang','angina'], value = [0,1,2,3], inplace=True)\n",
        "df['fbs'].replace(to_replace = ['true','fal'], value = [1,0],inplace=True)\n",
        "df['restecg'].replace(to_replace = ['hyp', 'norm','abn'], value = [0,1,2], inplace=True)\n",
        "df['exang'].replace(to_replace = ['fal','true'], value = [0,1], inplace=True)\n",
        "df['slope'].replace(to_replace = ['down','flat','up'], value = [0,1,2], inplace=True)\n",
        "df['thal'].replace(to_replace = ['?','fix','norm','rev'], value = [0,1,2,3], inplace=True)\n",
        "df['target'].replace(to_replace = ['H','S1','S2','S3','S4'],value = [0,1,2,3,4], inplace=True)"
      ]
    },
    {
      "cell_type": "code",
      "execution_count": 23,
      "metadata": {
        "id": "pWZNBHjWz5JS",
        "colab": {
          "base_uri": "https://localhost:8080/"
        },
        "outputId": "b4f2ffa8-8533-4188-a50d-9017f5c06299"
      },
      "outputs": [
        {
          "output_type": "execute_result",
          "data": {
            "text/plain": [
              "age         0.222890\n",
              "sex         0.225511\n",
              "cp         -0.417746\n",
              "trestbps    0.158089\n",
              "chol        0.070868\n",
              "fbs         0.059274\n",
              "restecg    -0.133425\n",
              "thalach    -0.415298\n",
              "exang       0.397496\n",
              "oldpeak     0.504919\n",
              "slope      -0.378722\n",
              "ca          0.454953\n",
              "thal        0.330199\n",
              "target      1.000000\n",
              "Name: target, dtype: float64"
            ]
          },
          "metadata": {},
          "execution_count": 23
        }
      ],
      "source": [
        "df.corr()['target']"
      ]
    },
    {
      "cell_type": "code",
      "execution_count": 24,
      "metadata": {
        "id": "3W06AIiSz7Ir",
        "colab": {
          "base_uri": "https://localhost:8080/",
          "height": 396
        },
        "outputId": "1c871e92-a4a0-4009-8201-aeb38f34fe80"
      },
      "outputs": [
        {
          "output_type": "display_data",
          "data": {
            "text/plain": [
              "<Figure size 1080x432 with 1 Axes>"
            ],
            "image/png": "[encoded data removed]"
          },
          "metadata": {
            "needs_background": "light"
          }
        }
      ],
      "source": [
        "df.corr()['target'][:-1].sort_values(ascending=False).plot(kind='barh', figsize = (15,6))\n",
        "plt.yticks(rotation=45, weight='bold');\n",
        "plt.title('Correlation of features w.r.t to the target variable');"
      ]
    },
    {
      "cell_type": "markdown",
      "metadata": {
        "id": "c3PIlXoN0Gyj"
      },
      "source": [
        "*Correlation between features*"
      ]
    },
    {
      "cell_type": "code",
      "execution_count": 25,
      "metadata": {
        "id": "FSq9VkT8z8qM",
        "colab": {
          "base_uri": "https://localhost:8080/",
          "height": 704
        },
        "outputId": "5b6e220a-1d4d-479e-a584-6d5647f05b96"
      },
      "outputs": [
        {
          "output_type": "display_data",
          "data": {
            "text/plain": [
              "<Figure size 1296x864 with 2 Axes>"
            ],
            "image/png": "[encoded data removed]"
          },
          "metadata": {
            "needs_background": "light"
          }
        }
      ],
      "source": [
        "fig = plt.figure(figsize = (18,12))\n",
        "ax = sns.heatmap(df.corr(), annot=True,cmap='hsv');"
      ]
    },
    {
      "cell_type": "markdown",
      "metadata": {
        "id": "cY8nQG2y0Su-"
      },
      "source": [
        "#### **Observations**\n",
        "\n",
        "1.   None of the features have a strong positive or negative correlation with the target variable.\n",
        "\n",
        "2.   Fasting blood sugar seems to be uncorrleated with the patient being diseased, which is a bit suprising.\n",
        "\n",
        "3.   Exang and oldpeak are slighlty negatively correlated with the target variable.\n",
        "\n",
        "4.   Thalch and cp are slightly positively correlated with the target variabe.\n",
        "\n",
        "5. None of the features are higly correlated, and hence no such features need to be dropped to avoid multi-collinearity.\n",
        "\n"
      ]
    },
    {
      "cell_type": "markdown",
      "metadata": {
        "id": "xAjM0kTj1VPY"
      },
      "source": [
        "# **Outlier-Detection**"
      ]
    },
    {
      "cell_type": "markdown",
      "metadata": {
        "id": "TM2Fjry71Zvh"
      },
      "source": [
        "***Since, we don't have a lot of data for training and testing our data, let's use the Inter-Quartile Range (IQR) for the detection of outlier***\n",
        "\n",
        "**Standard Deviation:**\n",
        "![](https://qph.fs.quoracdn.net/main-qimg-a86744ea6f27735b381e097bed60e048.webp)  \n",
        "\n",
        "**Interquartile Range:**\n",
        "![](http://www.statisticshowto.com/wp-content/uploads/2012/03/iqr.jpg)"
      ]
    },
    {
      "cell_type": "markdown",
      "metadata": {
        "id": "e06xyTMp2bSP"
      },
      "source": [
        "* Consider any feature from the dataset. Below, is the distribution of the **chol** feature prior to removal of it's outliers.\n",
        "\n",
        "* The area shaded in red, represents the outliers."
      ]
    },
    {
      "cell_type": "code",
      "execution_count": 26,
      "metadata": {
        "id": "4FuPG29R0OE4",
        "colab": {
          "base_uri": "https://localhost:8080/",
          "height": 391
        },
        "outputId": "b6aface8-2f07-43d4-8d2b-17caefae55e1"
      },
      "outputs": [
        {
          "output_type": "display_data",
          "data": {
            "text/plain": [
              "<Figure size 720x432 with 1 Axes>"
            ],
            "image/png": "[encoded data removed]"
          },
          "metadata": {
            "needs_background": "light"
          }
        }
      ],
      "source": [
        "q25, q75 = np.quantile(df['chol'], 0.25), np.quantile(df['chol'], 0.75)\n",
        "iqr = q75 - q25\n",
        "cut_off = iqr * 1.5\n",
        "lower, upper = q25 - cut_off, q75 + cut_off\n",
        "plt.figure(figsize = (10,6));\n",
        "sns.histplot(df.chol);\n",
        "plt.axvspan(xmin = lower,xmax= df.chol.min(),alpha=0.2, color='red');\n",
        "plt.axvspan(xmin = upper,xmax= df.chol.max(),alpha=0.2, color='red');"
      ]
    },
    {
      "cell_type": "markdown",
      "metadata": {
        "id": "qsg-C_lj3HAo"
      },
      "source": [
        "*Removing the outliers*"
      ]
    },
    {
      "cell_type": "code",
      "execution_count": 27,
      "metadata": {
        "id": "uWG_Bsla25ZF",
        "colab": {
          "base_uri": "https://localhost:8080/",
          "height": 574
        },
        "outputId": "936466c8-70c8-41c8-c798-4a6e624a9fc3"
      },
      "outputs": [
        {
          "output_type": "stream",
          "name": "stdout",
          "text": [
            "Total number of outlier in age are 0\n",
            "---------------------------------------\n",
            "Total number of outlier in trestbps are 9\n",
            "---------------------------------------\n",
            "Total number of outlier in chol are 5\n",
            "---------------------------------------\n",
            "Total number of outlier in thalach are 1\n",
            "---------------------------------------\n",
            "Total number of outlier in oldpeak are 4\n",
            "---------------------------------------\n"
          ]
        },
        {
          "output_type": "display_data",
          "data": {
            "text/plain": [
              "<Figure size 720x432 with 1 Axes>"
            ],
            "image/png": "[encoded data removed]"
          },
          "metadata": {
            "needs_background": "light"
          }
        }
      ],
      "source": [
        "def out_iqr(df , column):\n",
        "    \n",
        "    q25, q75 = np.quantile(df[column], 0.25), np.quantile(df[column], 0.75)\n",
        "    iqr = q75 - q25\n",
        "    cut_off = iqr * 1.5\n",
        "    lower, upper = q25 - cut_off, q75 + cut_off\n",
        "    df1 = df[df[column] > upper]\n",
        "    df2 = df[df[column] < lower]\n",
        "    print(f\"Total number of outlier in {column} are {df1.shape[0]+ df2.shape[0]}\")\n",
        "    print(\"---------------------------------------\")\n",
        "    index = df[(df[column] > upper)|(df[column] < lower)].index\n",
        "    df.drop(index, inplace=True)\n",
        "\n",
        "for col in cont_cols:\n",
        "  out_iqr(df,col)\n",
        "\n",
        "plt.figure(figsize = (10,6));\n",
        "sns.histplot(df.chol);\n",
        "plt.axvspan(xmin = lower,xmax= df.chol.min(),alpha=0.2, color='red');\n",
        "plt.axvspan(xmin = upper,xmax= df.chol.max(),alpha=0.2, color='red');"
      ]
    },
    {
      "cell_type": "markdown",
      "metadata": {
        "id": "c3bCPXVB3eiN"
      },
      "source": [
        "# **Feature-Engineering**"
      ]
    },
    {
      "cell_type": "markdown",
      "metadata": {
        "id": "BSrd7y4Z3y9_"
      },
      "source": [
        "Current dataset"
      ]
    },
    {
      "cell_type": "code",
      "execution_count": 28,
      "metadata": {
        "id": "cm7tSw3L3U3P",
        "colab": {
          "base_uri": "https://localhost:8080/",
          "height": 224
        },
        "outputId": "561af6f7-299f-4c82-a362-8d625838de7b"
      },
      "outputs": [
        {
          "output_type": "stream",
          "name": "stdout",
          "text": [
            "Number of features: (283, 14)\n"
          ]
        },
        {
          "output_type": "execute_result",
          "data": {
            "text/plain": [
              "    age  sex  cp  trestbps   chol  fbs  restecg  thalach  exang  oldpeak  \\\n",
              "0  63.0    1   3     145.0  233.0    1        0    150.0      0      2.3   \n",
              "1  67.0    1   0     160.0  286.0    0        0    108.0      1      1.5   \n",
              "2  67.0    1   0     120.0  229.0    0        0    129.0      1      2.6   \n",
              "3  37.0    1   2     130.0  250.0    0        1    187.0      0      3.5   \n",
              "4  41.0    0   1     130.0  204.0    0        0    172.0      0      1.4   \n",
              "\n",
              "   slope   ca  thal  target  \n",
              "0      0  0.0     1       0  \n",
              "1      1  3.0     2       2  \n",
              "2      1  2.0     3       1  \n",
              "3      0  0.0     2       0  \n",
              "4      2  0.0     2       0  "
            ],
            "text/html": [
              "\n",
              "  <div id=\"df-e0f924d6-ba11-4797-aeca-db7a8d6dec37\">\n",
              "    <div class=\"colab-df-container\">\n",
              "      <div>\n",
              "<style scoped>\n",
              "    .dataframe tbody tr th:only-of-type {\n",
              "        vertical-align: middle;\n",
              "    }\n",
              "\n",
              "    .dataframe tbody tr th {\n",
              "        vertical-align: top;\n",
              "    }\n",
              "\n",
              "    .dataframe thead th {\n",
              "        text-align: right;\n",
              "    }\n",
              "</style>\n",
              "<table border=\"1\" class=\"dataframe\">\n",
              "  <thead>\n",
              "    <tr style=\"text-align: right;\">\n",
              "      <th></th>\n",
              "      <th>age</th>\n",
              "      <th>sex</th>\n",
              "      <th>cp</th>\n",
              "      <th>trestbps</th>\n",
              "      <th>chol</th>\n",
              "      <th>fbs</th>\n",
              "      <th>restecg</th>\n",
              "      <th>thalach</th>\n",
              "      <th>exang</th>\n",
              "      <th>oldpeak</th>\n",
              "      <th>slope</th>\n",
              "      <th>ca</th>\n",
              "      <th>thal</th>\n",
              "      <th>target</th>\n",
              "    </tr>\n",
              "  </thead>\n",
              "  <tbody>\n",
              "    <tr>\n",
              "      <th>0</th>\n",
              "      <td>63.0</td>\n",
              "      <td>1</td>\n",
              "      <td>3</td>\n",
              "      <td>145.0</td>\n",
              "      <td>233.0</td>\n",
              "      <td>1</td>\n",
              "      <td>0</td>\n",
              "      <td>150.0</td>\n",
              "      <td>0</td>\n",
              "      <td>2.3</td>\n",
              "      <td>0</td>\n",
              "      <td>0.0</td>\n",
              "      <td>1</td>\n",
              "      <td>0</td>\n",
              "    </tr>\n",
              "    <tr>\n",
              "      <th>1</th>\n",
              "      <td>67.0</td>\n",
              "      <td>1</td>\n",
              "      <td>0</td>\n",
              "      <td>160.0</td>\n",
              "      <td>286.0</td>\n",
              "      <td>0</td>\n",
              "      <td>0</td>\n",
              "      <td>108.0</td>\n",
              "      <td>1</td>\n",
              "      <td>1.5</td>\n",
              "      <td>1</td>\n",
              "      <td>3.0</td>\n",
              "      <td>2</td>\n",
              "      <td>2</td>\n",
              "    </tr>\n",
              "    <tr>\n",
              "      <th>2</th>\n",
              "      <td>67.0</td>\n",
              "      <td>1</td>\n",
              "      <td>0</td>\n",
              "      <td>120.0</td>\n",
              "      <td>229.0</td>\n",
              "      <td>0</td>\n",
              "      <td>0</td>\n",
              "      <td>129.0</td>\n",
              "      <td>1</td>\n",
              "      <td>2.6</td>\n",
              "      <td>1</td>\n",
              "      <td>2.0</td>\n",
              "      <td>3</td>\n",
              "      <td>1</td>\n",
              "    </tr>\n",
              "    <tr>\n",
              "      <th>3</th>\n",
              "      <td>37.0</td>\n",
              "      <td>1</td>\n",
              "      <td>2</td>\n",
              "      <td>130.0</td>\n",
              "      <td>250.0</td>\n",
              "      <td>0</td>\n",
              "      <td>1</td>\n",
              "      <td>187.0</td>\n",
              "      <td>0</td>\n",
              "      <td>3.5</td>\n",
              "      <td>0</td>\n",
              "      <td>0.0</td>\n",
              "      <td>2</td>\n",
              "      <td>0</td>\n",
              "    </tr>\n",
              "    <tr>\n",
              "      <th>4</th>\n",
              "      <td>41.0</td>\n",
              "      <td>0</td>\n",
              "      <td>1</td>\n",
              "      <td>130.0</td>\n",
              "      <td>204.0</td>\n",
              "      <td>0</td>\n",
              "      <td>0</td>\n",
              "      <td>172.0</td>\n",
              "      <td>0</td>\n",
              "      <td>1.4</td>\n",
              "      <td>2</td>\n",
              "      <td>0.0</td>\n",
              "      <td>2</td>\n",
              "      <td>0</td>\n",
              "    </tr>\n",
              "  </tbody>\n",
              "</table>\n",
              "</div>\n",
              "      <button class=\"colab-df-convert\" onclick=\"convertToInteractive('df-e0f924d6-ba11-4797-aeca-db7a8d6dec37')\"\n",
              "              title=\"Convert this dataframe to an interactive table.\"\n",
              "              style=\"display:none;\">\n",
              "        \n",
              "  <svg xmlns=\"http://www.w3.org/2000/svg\" height=\"24px\"viewBox=\"0 0 24 24\"\n",
              "       width=\"24px\">\n",
              "    <path d=\"M0 0h24v24H0V0z\" fill=\"none\"/>\n",
              "    <path d=\"M18.56 5.44l.94 2.06.94-2.06 2.06-.94-2.06-.94-.94-2.06-.94 2.06-2.06.94zm-11 1L8.5 8.5l.94-2.06 2.06-.94-2.06-.94L8.5 2.5l-.94 2.06-2.06.94zm10 10l.94 2.06.94-2.06 2.06-.94-2.06-.94-.94-2.06-.94 2.06-2.06.94z\"/><path d=\"M17.41 7.96l-1.37-1.37c-.4-.4-.92-.59-1.43-.59-.52 0-1.04.2-1.43.59L10.3 9.45l-7.72 7.72c-.78.78-.78 2.05 0 2.83L4 21.41c.39.39.9.59 1.41.59.51 0 1.02-.2 1.41-.59l7.78-7.78 2.81-2.81c.8-.78.8-2.07 0-2.86zM5.41 20L4 18.59l7.72-7.72 1.47 1.35L5.41 20z\"/>\n",
              "  </svg>\n",
              "      </button>\n",
              "      \n",
              "  <style>\n",
              "    .colab-df-container {\n",
              "      display:flex;\n",
              "      flex-wrap:wrap;\n",
              "      gap: 12px;\n",
              "    }\n",
              "\n",
              "    .colab-df-convert {\n",
              "      background-color: #E8F0FE;\n",
              "      border: none;\n",
              "      border-radius: 50%;\n",
              "      cursor: pointer;\n",
              "      display: none;\n",
              "      fill: #1967D2;\n",
              "      height: 32px;\n",
              "      padding: 0 0 0 0;\n",
              "      width: 32px;\n",
              "    }\n",
              "\n",
              "    .colab-df-convert:hover {\n",
              "      background-color: #E2EBFA;\n",
              "      box-shadow: 0px 1px 2px rgba(60, 64, 67, 0.3), 0px 1px 3px 1px rgba(60, 64, 67, 0.15);\n",
              "      fill: #174EA6;\n",
              "    }\n",
              "\n",
              "    [theme=dark] .colab-df-convert {\n",
              "      background-color: #3B4455;\n",
              "      fill: #D2E3FC;\n",
              "    }\n",
              "\n",
              "    [theme=dark] .colab-df-convert:hover {\n",
              "      background-color: #434B5C;\n",
              "      box-shadow: 0px 1px 3px 1px rgba(0, 0, 0, 0.15);\n",
              "      filter: drop-shadow(0px 1px 2px rgba(0, 0, 0, 0.3));\n",
              "      fill: #FFFFFF;\n",
              "    }\n",
              "  </style>\n",
              "\n",
              "      <script>\n",
              "        const buttonEl =\n",
              "          document.querySelector('#df-e0f924d6-ba11-4797-aeca-db7a8d6dec37 button.colab-df-convert');\n",
              "        buttonEl.style.display =\n",
              "          google.colab.kernel.accessAllowed ? 'block' : 'none';\n",
              "\n",
              "        async function convertToInteractive(key) {\n",
              "          const element = document.querySelector('#df-e0f924d6-ba11-4797-aeca-db7a8d6dec37');\n",
              "          const dataTable =\n",
              "            await google.colab.kernel.invokeFunction('convertToInteractive',\n",
              "                                                     [key], {});\n",
              "          if (!dataTable) return;\n",
              "\n",
              "          const docLinkHtml = 'Like what you see? Visit the ' +\n",
              "            '<a target=\"_blank\" href=https://colab.research.google.com/notebooks/data_table.ipynb>data table notebook</a>'\n",
              "            + ' to learn more about interactive tables.';\n",
              "          element.innerHTML = '';\n",
              "          dataTable['output_type'] = 'display_data';\n",
              "          await google.colab.output.renderOutput(dataTable, element);\n",
              "          const docLink = document.createElement('div');\n",
              "          docLink.innerHTML = docLinkHtml;\n",
              "          element.appendChild(docLink);\n",
              "        }\n",
              "      </script>\n",
              "    </div>\n",
              "  </div>\n",
              "  "
            ]
          },
          "metadata": {},
          "execution_count": 28
        }
      ],
      "source": [
        "print(f\"Number of features: {df.shape}\")\n",
        "df.head(5)"
      ]
    },
    {
      "cell_type": "markdown",
      "metadata": {
        "id": "0Ksww_LQ3-ga"
      },
      "source": [
        "***Generating new features from the existing ones***"
      ]
    },
    {
      "cell_type": "code",
      "execution_count": 29,
      "metadata": {
        "id": "XNLKtfiI39ib",
        "colab": {
          "base_uri": "https://localhost:8080/",
          "height": 318
        },
        "outputId": "e2a2ebee-aa15-400e-bca4-1975a68d6007"
      },
      "outputs": [
        {
          "output_type": "stream",
          "name": "stdout",
          "text": [
            "Number of features: (283, 61)\n"
          ]
        },
        {
          "output_type": "execute_result",
          "data": {
            "text/plain": [
              "    age  sex  cp  trestbps   chol  fbs  restecg  thalach  exang  oldpeak  ...  \\\n",
              "0  63.0    1   3     145.0  233.0    1        0    150.0      0      2.3  ...   \n",
              "1  67.0    1   0     160.0  286.0    0        0    108.0      1      1.5  ...   \n",
              "2  67.0    1   0     120.0  229.0    0        0    129.0      1      2.6  ...   \n",
              "3  37.0    1   2     130.0  250.0    0        1    187.0      0      3.5  ...   \n",
              "4  41.0    0   1     130.0  204.0    0        0    172.0      0      1.4  ...   \n",
              "\n",
              "   exang_oldpeak2  exang_slope  exang_ca  thal_cp  thal_trestbps2  thal_chol2  \\\n",
              "0           0_5.0          0_0     0_0.0      1_3          1_14.0       1_5.0   \n",
              "1           1_3.0          1_1     1_3.0      2_0          2_16.0       2_7.0   \n",
              "2           1_6.0          1_1     1_2.0      3_0          3_12.0       3_5.0   \n",
              "3           0_8.0          0_0     0_0.0      2_2          2_13.0       2_6.0   \n",
              "4           0_3.0          0_2     0_0.0      2_1          2_13.0       2_5.0   \n",
              "\n",
              "   thal_thalach2  thal_oldpeak2  thal_slope thal_ca  \n",
              "0          1_3.0          1_5.0         1_0   1_0.0  \n",
              "1          2_2.0          2_3.0         2_1   2_3.0  \n",
              "2          3_3.0          3_6.0         3_1   3_2.0  \n",
              "3          2_4.0          2_8.0         2_0   2_0.0  \n",
              "4          2_4.0          2_3.0         2_2   2_0.0  \n",
              "\n",
              "[5 rows x 61 columns]"
            ],
            "text/html": [
              "\n",
              "  <div id=\"df-36ac3922-17c1-4d27-adc4-c68a6a0be5d7\">\n",
              "    <div class=\"colab-df-container\">\n",
              "      <div>\n",
              "<style scoped>\n",
              "    .dataframe tbody tr th:only-of-type {\n",
              "        vertical-align: middle;\n",
              "    }\n",
              "\n",
              "    .dataframe tbody tr th {\n",
              "        vertical-align: top;\n",
              "    }\n",
              "\n",
              "    .dataframe thead th {\n",
              "        text-align: right;\n",
              "    }\n",
              "</style>\n",
              "<table border=\"1\" class=\"dataframe\">\n",
              "  <thead>\n",
              "    <tr style=\"text-align: right;\">\n",
              "      <th></th>\n",
              "      <th>age</th>\n",
              "      <th>sex</th>\n",
              "      <th>cp</th>\n",
              "      <th>trestbps</th>\n",
              "      <th>chol</th>\n",
              "      <th>fbs</th>\n",
              "      <th>restecg</th>\n",
              "      <th>thalach</th>\n",
              "      <th>exang</th>\n",
              "      <th>oldpeak</th>\n",
              "      <th>...</th>\n",
              "      <th>exang_oldpeak2</th>\n",
              "      <th>exang_slope</th>\n",
              "      <th>exang_ca</th>\n",
              "      <th>thal_cp</th>\n",
              "      <th>thal_trestbps2</th>\n",
              "      <th>thal_chol2</th>\n",
              "      <th>thal_thalach2</th>\n",
              "      <th>thal_oldpeak2</th>\n",
              "      <th>thal_slope</th>\n",
              "      <th>thal_ca</th>\n",
              "    </tr>\n",
              "  </thead>\n",
              "  <tbody>\n",
              "    <tr>\n",
              "      <th>0</th>\n",
              "      <td>63.0</td>\n",
              "      <td>1</td>\n",
              "      <td>3</td>\n",
              "      <td>145.0</td>\n",
              "      <td>233.0</td>\n",
              "      <td>1</td>\n",
              "      <td>0</td>\n",
              "      <td>150.0</td>\n",
              "      <td>0</td>\n",
              "      <td>2.3</td>\n",
              "      <td>...</td>\n",
              "      <td>0_5.0</td>\n",
              "      <td>0_0</td>\n",
              "      <td>0_0.0</td>\n",
              "      <td>1_3</td>\n",
              "      <td>1_14.0</td>\n",
              "      <td>1_5.0</td>\n",
              "      <td>1_3.0</td>\n",
              "      <td>1_5.0</td>\n",
              "      <td>1_0</td>\n",
              "      <td>1_0.0</td>\n",
              "    </tr>\n",
              "    <tr>\n",
              "      <th>1</th>\n",
              "      <td>67.0</td>\n",
              "      <td>1</td>\n",
              "      <td>0</td>\n",
              "      <td>160.0</td>\n",
              "      <td>286.0</td>\n",
              "      <td>0</td>\n",
              "      <td>0</td>\n",
              "      <td>108.0</td>\n",
              "      <td>1</td>\n",
              "      <td>1.5</td>\n",
              "      <td>...</td>\n",
              "      <td>1_3.0</td>\n",
              "      <td>1_1</td>\n",
              "      <td>1_3.0</td>\n",
              "      <td>2_0</td>\n",
              "      <td>2_16.0</td>\n",
              "      <td>2_7.0</td>\n",
              "      <td>2_2.0</td>\n",
              "      <td>2_3.0</td>\n",
              "      <td>2_1</td>\n",
              "      <td>2_3.0</td>\n",
              "    </tr>\n",
              "    <tr>\n",
              "      <th>2</th>\n",
              "      <td>67.0</td>\n",
              "      <td>1</td>\n",
              "      <td>0</td>\n",
              "      <td>120.0</td>\n",
              "      <td>229.0</td>\n",
              "      <td>0</td>\n",
              "      <td>0</td>\n",
              "      <td>129.0</td>\n",
              "      <td>1</td>\n",
              "      <td>2.6</td>\n",
              "      <td>...</td>\n",
              "      <td>1_6.0</td>\n",
              "      <td>1_1</td>\n",
              "      <td>1_2.0</td>\n",
              "      <td>3_0</td>\n",
              "      <td>3_12.0</td>\n",
              "      <td>3_5.0</td>\n",
              "      <td>3_3.0</td>\n",
              "      <td>3_6.0</td>\n",
              "      <td>3_1</td>\n",
              "      <td>3_2.0</td>\n",
              "    </tr>\n",
              "    <tr>\n",
              "      <th>3</th>\n",
              "      <td>37.0</td>\n",
              "      <td>1</td>\n",
              "      <td>2</td>\n",
              "      <td>130.0</td>\n",
              "      <td>250.0</td>\n",
              "      <td>0</td>\n",
              "      <td>1</td>\n",
              "      <td>187.0</td>\n",
              "      <td>0</td>\n",
              "      <td>3.5</td>\n",
              "      <td>...</td>\n",
              "      <td>0_8.0</td>\n",
              "      <td>0_0</td>\n",
              "      <td>0_0.0</td>\n",
              "      <td>2_2</td>\n",
              "      <td>2_13.0</td>\n",
              "      <td>2_6.0</td>\n",
              "      <td>2_4.0</td>\n",
              "      <td>2_8.0</td>\n",
              "      <td>2_0</td>\n",
              "      <td>2_0.0</td>\n",
              "    </tr>\n",
              "    <tr>\n",
              "      <th>4</th>\n",
              "      <td>41.0</td>\n",
              "      <td>0</td>\n",
              "      <td>1</td>\n",
              "      <td>130.0</td>\n",
              "      <td>204.0</td>\n",
              "      <td>0</td>\n",
              "      <td>0</td>\n",
              "      <td>172.0</td>\n",
              "      <td>0</td>\n",
              "      <td>1.4</td>\n",
              "      <td>...</td>\n",
              "      <td>0_3.0</td>\n",
              "      <td>0_2</td>\n",
              "      <td>0_0.0</td>\n",
              "      <td>2_1</td>\n",
              "      <td>2_13.0</td>\n",
              "      <td>2_5.0</td>\n",
              "      <td>2_4.0</td>\n",
              "      <td>2_3.0</td>\n",
              "      <td>2_2</td>\n",
              "      <td>2_0.0</td>\n",
              "    </tr>\n",
              "  </tbody>\n",
              "</table>\n",
              "<p>5 rows × 61 columns</p>\n",
              "</div>\n",
              "      <button class=\"colab-df-convert\" onclick=\"convertToInteractive('df-36ac3922-17c1-4d27-adc4-c68a6a0be5d7')\"\n",
              "              title=\"Convert this dataframe to an interactive table.\"\n",
              "              style=\"display:none;\">\n",
              "        \n",
              "  <svg xmlns=\"http://www.w3.org/2000/svg\" height=\"24px\"viewBox=\"0 0 24 24\"\n",
              "       width=\"24px\">\n",
              "    <path d=\"M0 0h24v24H0V0z\" fill=\"none\"/>\n",
              "    <path d=\"M18.56 5.44l.94 2.06.94-2.06 2.06-.94-2.06-.94-.94-2.06-.94 2.06-2.06.94zm-11 1L8.5 8.5l.94-2.06 2.06-.94-2.06-.94L8.5 2.5l-.94 2.06-2.06.94zm10 10l.94 2.06.94-2.06 2.06-.94-2.06-.94-.94-2.06-.94 2.06-2.06.94z\"/><path d=\"M17.41 7.96l-1.37-1.37c-.4-.4-.92-.59-1.43-.59-.52 0-1.04.2-1.43.59L10.3 9.45l-7.72 7.72c-.78.78-.78 2.05 0 2.83L4 21.41c.39.39.9.59 1.41.59.51 0 1.02-.2 1.41-.59l7.78-7.78 2.81-2.81c.8-.78.8-2.07 0-2.86zM5.41 20L4 18.59l7.72-7.72 1.47 1.35L5.41 20z\"/>\n",
              "  </svg>\n",
              "      </button>\n",
              "      \n",
              "  <style>\n",
              "    .colab-df-container {\n",
              "      display:flex;\n",
              "      flex-wrap:wrap;\n",
              "      gap: 12px;\n",
              "    }\n",
              "\n",
              "    .colab-df-convert {\n",
              "      background-color: #E8F0FE;\n",
              "      border: none;\n",
              "      border-radius: 50%;\n",
              "      cursor: pointer;\n",
              "      display: none;\n",
              "      fill: #1967D2;\n",
              "      height: 32px;\n",
              "      padding: 0 0 0 0;\n",
              "      width: 32px;\n",
              "    }\n",
              "\n",
              "    .colab-df-convert:hover {\n",
              "      background-color: #E2EBFA;\n",
              "      box-shadow: 0px 1px 2px rgba(60, 64, 67, 0.3), 0px 1px 3px 1px rgba(60, 64, 67, 0.15);\n",
              "      fill: #174EA6;\n",
              "    }\n",
              "\n",
              "    [theme=dark] .colab-df-convert {\n",
              "      background-color: #3B4455;\n",
              "      fill: #D2E3FC;\n",
              "    }\n",
              "\n",
              "    [theme=dark] .colab-df-convert:hover {\n",
              "      background-color: #434B5C;\n",
              "      box-shadow: 0px 1px 3px 1px rgba(0, 0, 0, 0.15);\n",
              "      filter: drop-shadow(0px 1px 2px rgba(0, 0, 0, 0.3));\n",
              "      fill: #FFFFFF;\n",
              "    }\n",
              "  </style>\n",
              "\n",
              "      <script>\n",
              "        const buttonEl =\n",
              "          document.querySelector('#df-36ac3922-17c1-4d27-adc4-c68a6a0be5d7 button.colab-df-convert');\n",
              "        buttonEl.style.display =\n",
              "          google.colab.kernel.accessAllowed ? 'block' : 'none';\n",
              "\n",
              "        async function convertToInteractive(key) {\n",
              "          const element = document.querySelector('#df-36ac3922-17c1-4d27-adc4-c68a6a0be5d7');\n",
              "          const dataTable =\n",
              "            await google.colab.kernel.invokeFunction('convertToInteractive',\n",
              "                                                     [key], {});\n",
              "          if (!dataTable) return;\n",
              "\n",
              "          const docLinkHtml = 'Like what you see? Visit the ' +\n",
              "            '<a target=\"_blank\" href=https://colab.research.google.com/notebooks/data_table.ipynb>data table notebook</a>'\n",
              "            + ' to learn more about interactive tables.';\n",
              "          element.innerHTML = '';\n",
              "          dataTable['output_type'] = 'display_data';\n",
              "          await google.colab.output.renderOutput(dataTable, element);\n",
              "          const docLink = document.createElement('div');\n",
              "          docLink.innerHTML = docLinkHtml;\n",
              "          element.appendChild(docLink);\n",
              "        }\n",
              "      </script>\n",
              "    </div>\n",
              "  </div>\n",
              "  "
            ]
          },
          "metadata": {},
          "execution_count": 29
        }
      ],
      "source": [
        "def fe_creation(df):\n",
        "    df['age2'] = df['age']//10\n",
        "    df['trestbps2'] = df['trestbps']//10 \n",
        "    df['chol2'] = df['chol']//40\n",
        "    df['thalach2'] = df['thalach']//40\n",
        "    df['oldpeak2'] = df['oldpeak']//0.4\n",
        "    for i in ['sex', 'age2', 'fbs', 'restecg', 'exang','thal', ]:\n",
        "        for j in ['cp','trestbps2', 'chol2', 'thalach2', 'oldpeak2', 'slope', 'ca']:\n",
        "            df[i + \"_\" + j] = df[i].astype('str') + \"_\" + df[j].astype('str')\n",
        "    return df\n",
        "df = fe_creation(df)\n",
        "print(f\"Number of features: {df.shape}\")\n",
        "df.head(5)"
      ]
    },
    {
      "cell_type": "markdown",
      "metadata": {
        "id": "E0hiEvxr4SUd"
      },
      "source": [
        "**Label Encode all the categorical columns**"
      ]
    },
    {
      "cell_type": "code",
      "execution_count": 30,
      "metadata": {
        "id": "-31X57K14Is_"
      },
      "outputs": [],
      "source": [
        "categorical_columns = []\n",
        "numerics = ['int8', 'int16', 'int32', 'int64', 'float16', 'float32', 'float64']\n",
        "features = df.columns.values.tolist()\n",
        "for col in features:\n",
        "    if df[col].dtype in numerics: continue\n",
        "    categorical_columns.append(col)\n",
        "\n",
        "for col in categorical_columns:\n",
        "    if col in df.columns:\n",
        "        le = LabelEncoder()\n",
        "        le.fit(list(df[col].astype(str).values))\n",
        "        df[col] = le.transform(list(df[col].astype(str).values))"
      ]
    },
    {
      "cell_type": "code",
      "execution_count": 31,
      "metadata": {
        "id": "lW2M1f0A4eCR",
        "colab": {
          "base_uri": "https://localhost:8080/"
        },
        "outputId": "bbbf515d-05e9-410c-ef8d-edc8fed3f38b"
      },
      "outputs": [
        {
          "output_type": "execute_result",
          "data": {
            "text/plain": [
              "int64      50\n",
              "float64    11\n",
              "dtype: int64"
            ]
          },
          "metadata": {},
          "execution_count": 31
        }
      ],
      "source": [
        "df.dtypes.value_counts()"
      ]
    },
    {
      "cell_type": "code",
      "execution_count": 32,
      "metadata": {
        "id": "ormnKUfK4f3q",
        "colab": {
          "base_uri": "https://localhost:8080/",
          "height": 299
        },
        "outputId": "4191aee5-6045-422c-870e-29ea57a1cc00"
      },
      "outputs": [
        {
          "output_type": "execute_result",
          "data": {
            "text/plain": [
              "    age  sex  cp  trestbps   chol  fbs  restecg  thalach  exang  oldpeak  ...  \\\n",
              "0  63.0    1   3     145.0  233.0    1        0    150.0      0      2.3  ...   \n",
              "1  67.0    1   0     160.0  286.0    0        0    108.0      1      1.5  ...   \n",
              "2  67.0    1   0     120.0  229.0    0        0    129.0      1      2.6  ...   \n",
              "3  37.0    1   2     130.0  250.0    0        1    187.0      0      3.5  ...   \n",
              "4  41.0    0   1     130.0  204.0    0        0    172.0      0      1.4  ...   \n",
              "\n",
              "   exang_oldpeak2  exang_slope  exang_ca  thal_cp  thal_trestbps2  thal_chol2  \\\n",
              "0               5            0         0        5               4           2   \n",
              "1              12            4         8        6              14           9   \n",
              "2              15            4         7       10              18          14   \n",
              "3               8            0         0        8              11           8   \n",
              "4               3            2         0        7              11           7   \n",
              "\n",
              "   thal_thalach2  thal_oldpeak2  thal_slope  thal_ca  \n",
              "0              3              7           2        1  \n",
              "1              5             12           6        8  \n",
              "2             10             24           9       12  \n",
              "3              7             17           5        5  \n",
              "4              7             12           7        5  \n",
              "\n",
              "[5 rows x 61 columns]"
            ],
            "text/html": [
              "\n",
              "  <div id=\"df-8189ddb7-0415-4b48-a6e3-334cb8ae68cc\">\n",
              "    <div class=\"colab-df-container\">\n",
              "      <div>\n",
              "<style scoped>\n",
              "    .dataframe tbody tr th:only-of-type {\n",
              "        vertical-align: middle;\n",
              "    }\n",
              "\n",
              "    .dataframe tbody tr th {\n",
              "        vertical-align: top;\n",
              "    }\n",
              "\n",
              "    .dataframe thead th {\n",
              "        text-align: right;\n",
              "    }\n",
              "</style>\n",
              "<table border=\"1\" class=\"dataframe\">\n",
              "  <thead>\n",
              "    <tr style=\"text-align: right;\">\n",
              "      <th></th>\n",
              "      <th>age</th>\n",
              "      <th>sex</th>\n",
              "      <th>cp</th>\n",
              "      <th>trestbps</th>\n",
              "      <th>chol</th>\n",
              "      <th>fbs</th>\n",
              "      <th>restecg</th>\n",
              "      <th>thalach</th>\n",
              "      <th>exang</th>\n",
              "      <th>oldpeak</th>\n",
              "      <th>...</th>\n",
              "      <th>exang_oldpeak2</th>\n",
              "      <th>exang_slope</th>\n",
              "      <th>exang_ca</th>\n",
              "      <th>thal_cp</th>\n",
              "      <th>thal_trestbps2</th>\n",
              "      <th>thal_chol2</th>\n",
              "      <th>thal_thalach2</th>\n",
              "      <th>thal_oldpeak2</th>\n",
              "      <th>thal_slope</th>\n",
              "      <th>thal_ca</th>\n",
              "    </tr>\n",
              "  </thead>\n",
              "  <tbody>\n",
              "    <tr>\n",
              "      <th>0</th>\n",
              "      <td>63.0</td>\n",
              "      <td>1</td>\n",
              "      <td>3</td>\n",
              "      <td>145.0</td>\n",
              "      <td>233.0</td>\n",
              "      <td>1</td>\n",
              "      <td>0</td>\n",
              "      <td>150.0</td>\n",
              "      <td>0</td>\n",
              "      <td>2.3</td>\n",
              "      <td>...</td>\n",
              "      <td>5</td>\n",
              "      <td>0</td>\n",
              "      <td>0</td>\n",
              "      <td>5</td>\n",
              "      <td>4</td>\n",
              "      <td>2</td>\n",
              "      <td>3</td>\n",
              "      <td>7</td>\n",
              "      <td>2</td>\n",
              "      <td>1</td>\n",
              "    </tr>\n",
              "    <tr>\n",
              "      <th>1</th>\n",
              "      <td>67.0</td>\n",
              "      <td>1</td>\n",
              "      <td>0</td>\n",
              "      <td>160.0</td>\n",
              "      <td>286.0</td>\n",
              "      <td>0</td>\n",
              "      <td>0</td>\n",
              "      <td>108.0</td>\n",
              "      <td>1</td>\n",
              "      <td>1.5</td>\n",
              "      <td>...</td>\n",
              "      <td>12</td>\n",
              "      <td>4</td>\n",
              "      <td>8</td>\n",
              "      <td>6</td>\n",
              "      <td>14</td>\n",
              "      <td>9</td>\n",
              "      <td>5</td>\n",
              "      <td>12</td>\n",
              "      <td>6</td>\n",
              "      <td>8</td>\n",
              "    </tr>\n",
              "    <tr>\n",
              "      <th>2</th>\n",
              "      <td>67.0</td>\n",
              "      <td>1</td>\n",
              "      <td>0</td>\n",
              "      <td>120.0</td>\n",
              "      <td>229.0</td>\n",
              "      <td>0</td>\n",
              "      <td>0</td>\n",
              "      <td>129.0</td>\n",
              "      <td>1</td>\n",
              "      <td>2.6</td>\n",
              "      <td>...</td>\n",
              "      <td>15</td>\n",
              "      <td>4</td>\n",
              "      <td>7</td>\n",
              "      <td>10</td>\n",
              "      <td>18</td>\n",
              "      <td>14</td>\n",
              "      <td>10</td>\n",
              "      <td>24</td>\n",
              "      <td>9</td>\n",
              "      <td>12</td>\n",
              "    </tr>\n",
              "    <tr>\n",
              "      <th>3</th>\n",
              "      <td>37.0</td>\n",
              "      <td>1</td>\n",
              "      <td>2</td>\n",
              "      <td>130.0</td>\n",
              "      <td>250.0</td>\n",
              "      <td>0</td>\n",
              "      <td>1</td>\n",
              "      <td>187.0</td>\n",
              "      <td>0</td>\n",
              "      <td>3.5</td>\n",
              "      <td>...</td>\n",
              "      <td>8</td>\n",
              "      <td>0</td>\n",
              "      <td>0</td>\n",
              "      <td>8</td>\n",
              "      <td>11</td>\n",
              "      <td>8</td>\n",
              "      <td>7</td>\n",
              "      <td>17</td>\n",
              "      <td>5</td>\n",
              "      <td>5</td>\n",
              "    </tr>\n",
              "    <tr>\n",
              "      <th>4</th>\n",
              "      <td>41.0</td>\n",
              "      <td>0</td>\n",
              "      <td>1</td>\n",
              "      <td>130.0</td>\n",
              "      <td>204.0</td>\n",
              "      <td>0</td>\n",
              "      <td>0</td>\n",
              "      <td>172.0</td>\n",
              "      <td>0</td>\n",
              "      <td>1.4</td>\n",
              "      <td>...</td>\n",
              "      <td>3</td>\n",
              "      <td>2</td>\n",
              "      <td>0</td>\n",
              "      <td>7</td>\n",
              "      <td>11</td>\n",
              "      <td>7</td>\n",
              "      <td>7</td>\n",
              "      <td>12</td>\n",
              "      <td>7</td>\n",
              "      <td>5</td>\n",
              "    </tr>\n",
              "  </tbody>\n",
              "</table>\n",
              "<p>5 rows × 61 columns</p>\n",
              "</div>\n",
              "      <button class=\"colab-df-convert\" onclick=\"convertToInteractive('df-8189ddb7-0415-4b48-a6e3-334cb8ae68cc')\"\n",
              "              title=\"Convert this dataframe to an interactive table.\"\n",
              "              style=\"display:none;\">\n",
              "        \n",
              "  <svg xmlns=\"http://www.w3.org/2000/svg\" height=\"24px\"viewBox=\"0 0 24 24\"\n",
              "       width=\"24px\">\n",
              "    <path d=\"M0 0h24v24H0V0z\" fill=\"none\"/>\n",
              "    <path d=\"M18.56 5.44l.94 2.06.94-2.06 2.06-.94-2.06-.94-.94-2.06-.94 2.06-2.06.94zm-11 1L8.5 8.5l.94-2.06 2.06-.94-2.06-.94L8.5 2.5l-.94 2.06-2.06.94zm10 10l.94 2.06.94-2.06 2.06-.94-2.06-.94-.94-2.06-.94 2.06-2.06.94z\"/><path d=\"M17.41 7.96l-1.37-1.37c-.4-.4-.92-.59-1.43-.59-.52 0-1.04.2-1.43.59L10.3 9.45l-7.72 7.72c-.78.78-.78 2.05 0 2.83L4 21.41c.39.39.9.59 1.41.59.51 0 1.02-.2 1.41-.59l7.78-7.78 2.81-2.81c.8-.78.8-2.07 0-2.86zM5.41 20L4 18.59l7.72-7.72 1.47 1.35L5.41 20z\"/>\n",
              "  </svg>\n",
              "      </button>\n",
              "      \n",
              "  <style>\n",
              "    .colab-df-container {\n",
              "      display:flex;\n",
              "      flex-wrap:wrap;\n",
              "      gap: 12px;\n",
              "    }\n",
              "\n",
              "    .colab-df-convert {\n",
              "      background-color: #E8F0FE;\n",
              "      border: none;\n",
              "      border-radius: 50%;\n",
              "      cursor: pointer;\n",
              "      display: none;\n",
              "      fill: #1967D2;\n",
              "      height: 32px;\n",
              "      padding: 0 0 0 0;\n",
              "      width: 32px;\n",
              "    }\n",
              "\n",
              "    .colab-df-convert:hover {\n",
              "      background-color: #E2EBFA;\n",
              "      box-shadow: 0px 1px 2px rgba(60, 64, 67, 0.3), 0px 1px 3px 1px rgba(60, 64, 67, 0.15);\n",
              "      fill: #174EA6;\n",
              "    }\n",
              "\n",
              "    [theme=dark] .colab-df-convert {\n",
              "      background-color: #3B4455;\n",
              "      fill: #D2E3FC;\n",
              "    }\n",
              "\n",
              "    [theme=dark] .colab-df-convert:hover {\n",
              "      background-color: #434B5C;\n",
              "      box-shadow: 0px 1px 3px 1px rgba(0, 0, 0, 0.15);\n",
              "      filter: drop-shadow(0px 1px 2px rgba(0, 0, 0, 0.3));\n",
              "      fill: #FFFFFF;\n",
              "    }\n",
              "  </style>\n",
              "\n",
              "      <script>\n",
              "        const buttonEl =\n",
              "          document.querySelector('#df-8189ddb7-0415-4b48-a6e3-334cb8ae68cc button.colab-df-convert');\n",
              "        buttonEl.style.display =\n",
              "          google.colab.kernel.accessAllowed ? 'block' : 'none';\n",
              "\n",
              "        async function convertToInteractive(key) {\n",
              "          const element = document.querySelector('#df-8189ddb7-0415-4b48-a6e3-334cb8ae68cc');\n",
              "          const dataTable =\n",
              "            await google.colab.kernel.invokeFunction('convertToInteractive',\n",
              "                                                     [key], {});\n",
              "          if (!dataTable) return;\n",
              "\n",
              "          const docLinkHtml = 'Like what you see? Visit the ' +\n",
              "            '<a target=\"_blank\" href=https://colab.research.google.com/notebooks/data_table.ipynb>data table notebook</a>'\n",
              "            + ' to learn more about interactive tables.';\n",
              "          element.innerHTML = '';\n",
              "          dataTable['output_type'] = 'display_data';\n",
              "          await google.colab.output.renderOutput(dataTable, element);\n",
              "          const docLink = document.createElement('div');\n",
              "          docLink.innerHTML = docLinkHtml;\n",
              "          element.appendChild(docLink);\n",
              "        }\n",
              "      </script>\n",
              "    </div>\n",
              "  </div>\n",
              "  "
            ]
          },
          "metadata": {},
          "execution_count": 32
        }
      ],
      "source": [
        "df.head()"
      ]
    },
    {
      "cell_type": "markdown",
      "metadata": {
        "id": "cgNT6c986hUy"
      },
      "source": [
        "# **Feature-Selection**"
      ]
    },
    {
      "cell_type": "markdown",
      "metadata": {
        "id": "_VTDudhM7k06"
      },
      "source": [
        "**In this section, we will be using various feature selection techniques to find the optimium set of features and then takes the intersection of the features generated by the different techniques.**"
      ]
    },
    {
      "cell_type": "code",
      "execution_count": 33,
      "metadata": {
        "id": "Y9iuGk5n6cRK"
      },
      "outputs": [],
      "source": [
        "X = df.drop('target',axis=1)\n",
        "y = df.target\n",
        "num_features_opt = 25   # the number of features that we need to choose as a result\n",
        "num_features_max = 35   # the somewhat excessive number of features, which we will choose at each stage\n",
        "features_best = []"
      ]
    },
    {
      "cell_type": "markdown",
      "metadata": {
        "id": "7GUaHz1Y79po"
      },
      "source": [
        "## **Features selection with Pearsons correlation**\n",
        "\n",
        "> ![](https://miro.medium.com/max/2919/1*OgRpdNHGsxjrWwqolc1jpw.png)"
      ]
    },
    {
      "cell_type": "code",
      "execution_count": 34,
      "metadata": {
        "id": "uGOhHLqI76tu",
        "colab": {
          "base_uri": "https://localhost:8080/"
        },
        "outputId": "4ea9a50e-1602-46a4-f160-f7fe13f169cf"
      },
      "outputs": [
        {
          "output_type": "stream",
          "name": "stdout",
          "text": [
            "The number of features that passed the collinearity threshold:  28\n"
          ]
        },
        {
          "output_type": "execute_result",
          "data": {
            "text/plain": [
              "[['age',\n",
              "  'sex',\n",
              "  'cp',\n",
              "  'trestbps',\n",
              "  'chol',\n",
              "  'fbs',\n",
              "  'restecg',\n",
              "  'thalach',\n",
              "  'exang',\n",
              "  'oldpeak',\n",
              "  'slope',\n",
              "  'ca',\n",
              "  'thal',\n",
              "  'target',\n",
              "  'thalach2',\n",
              "  'sex_cp',\n",
              "  'sex_thalach2',\n",
              "  'sex_oldpeak2',\n",
              "  'sex_ca',\n",
              "  'fbs_cp',\n",
              "  'fbs_trestbps2',\n",
              "  'fbs_thalach2',\n",
              "  'fbs_oldpeak2',\n",
              "  'fbs_slope',\n",
              "  'fbs_ca',\n",
              "  'restecg_cp',\n",
              "  'restecg_oldpeak2',\n",
              "  'exang_cp']]"
            ]
          },
          "metadata": {},
          "execution_count": 34
        }
      ],
      "source": [
        "threshold = 0.9\n",
        "# Absolute value correlation matrix\n",
        "corr_matrix = df.corr().abs().round(2)\n",
        "upper = corr_matrix.where(np.triu(np.ones(corr_matrix.shape), k=1).astype(np.bool))\n",
        "# Select columns with correlations above threshold\n",
        "collinear_features = [column for column in upper.columns if any(upper[column] > threshold)]\n",
        "features_filtered = df.drop(columns = collinear_features)\n",
        "print('The number of features that passed the collinearity threshold: ', features_filtered.shape[1])\n",
        "features_best.append(features_filtered.columns.tolist())\n",
        "features_best"
      ]
    },
    {
      "cell_type": "markdown",
      "metadata": {
        "id": "G-NYyn3j84OT"
      },
      "source": [
        "## **Feature Selection with Linear SVC**"
      ]
    },
    {
      "cell_type": "code",
      "execution_count": 35,
      "metadata": {
        "id": "BcfTam0I8rdu"
      },
      "outputs": [],
      "source": [
        "lsvc = LinearSVC(C=0.1, penalty=\"l1\", dual=False).fit(X, y)\n",
        "model = SelectFromModel(lsvc, prefit=True)\n",
        "X_new = model.transform(X)\n",
        "X_selected_df = pd.DataFrame(X_new, columns=[X.columns[i] for i in range(len(X.columns)) if model.get_support()[i]])\n",
        "features_best.append(X_selected_df.columns.tolist())\n",
        "# features_best"
      ]
    },
    {
      "cell_type": "markdown",
      "metadata": {
        "id": "k6Vkutiv9VT4"
      },
      "source": [
        "## **Feature selection with Lasso**"
      ]
    },
    {
      "cell_type": "code",
      "execution_count": 36,
      "metadata": {
        "id": "CbgD6PMK891H"
      },
      "outputs": [],
      "source": [
        "lasso = LassoCV(cv=10).fit(X, y)\n",
        "model = SelectFromModel(lasso, prefit=True)\n",
        "X_new = model.transform(X)\n",
        "X_selected_df = pd.DataFrame(X_new, columns=[X.columns[i] for i in range(len(X.columns)) if model.get_support()[i]])\n",
        "features_best.append(X_selected_df.columns.tolist())\n",
        "# features_best"
      ]
    },
    {
      "cell_type": "markdown",
      "metadata": {
        "id": "oaiLsoFz9isf"
      },
      "source": [
        "## **Feature Selection with Chi-2**"
      ]
    },
    {
      "cell_type": "code",
      "execution_count": 37,
      "metadata": {
        "id": "95E9-K4q9dl2"
      },
      "outputs": [],
      "source": [
        "bestfeatures = SelectKBest(score_func=chi2, k='all')\n",
        "fit = bestfeatures.fit(X, y)\n",
        "dfscores = pd.DataFrame(fit.scores_)\n",
        "dfcolumns = pd.DataFrame(X.columns)\n",
        "\n",
        "featureScores = pd.concat([dfcolumns,dfscores],axis=1)\n",
        "featureScores.columns = ['Feature','Score']  #naming the dataframe columns\n",
        "features_best.append(featureScores.nlargest(num_features_max,'Score')['Feature'].tolist())\n",
        "# print(featureScores.nlargest(len(dfcolumns),'Score')) "
      ]
    },
    {
      "cell_type": "markdown",
      "metadata": {
        "id": "64DmQhgs9toO"
      },
      "source": [
        "## **Feature Selection by Recursive Feature Elimination (RFE) and Logistic Regression**"
      ]
    },
    {
      "cell_type": "code",
      "execution_count": 38,
      "metadata": {
        "id": "TMHFfg4U9o7S",
        "colab": {
          "base_uri": "https://localhost:8080/"
        },
        "outputId": "a4ebf961-a02e-4b08-d35e-7f73eb43b5cc"
      },
      "outputs": [
        {
          "output_type": "stream",
          "name": "stdout",
          "text": [
            "Fitting estimator with 60 features.\n",
            "Fitting estimator with 50 features.\n",
            "Fitting estimator with 40 features.\n"
          ]
        }
      ],
      "source": [
        "rfe_selector = RFE(estimator=LogisticRegression(), n_features_to_select=num_features_max, step=10, verbose=5)\n",
        "rfe_selector.fit(X, y)\n",
        "rfe_support = rfe_selector.get_support()\n",
        "rfe_feature = X.loc[:,rfe_support].columns.tolist()\n",
        "# print(str(len(rfe_feature)), 'selected features')\n",
        "features_best.append(rfe_feature)\n",
        "# features_best"
      ]
    },
    {
      "cell_type": "markdown",
      "metadata": {
        "id": "iqAYSIKh-AAV"
      },
      "source": [
        "## **Feature Selection by Recursive Feature Elimination (RFE) and Random Forest Classifier**"
      ]
    },
    {
      "cell_type": "code",
      "execution_count": 39,
      "metadata": {
        "id": "gJL-7Jo991Tq",
        "colab": {
          "base_uri": "https://localhost:8080/"
        },
        "outputId": "e20728b5-43d2-4104-be72-3144655b0010"
      },
      "outputs": [
        {
          "output_type": "stream",
          "name": "stdout",
          "text": [
            "18 selected features\n"
          ]
        }
      ],
      "source": [
        "embeded_rf_selector = SelectFromModel(RandomForestClassifier(n_estimators=200), threshold='1.25*median')\n",
        "embeded_rf_selector.fit(X, y)\n",
        "embeded_rf_support = embeded_rf_selector.get_support()\n",
        "embeded_rf_feature = X.loc[:,embeded_rf_support].columns.tolist()\n",
        "print(str(len(embeded_rf_feature)), 'selected features')\n",
        "features_best.append(embeded_rf_feature)\n",
        "# features_best"
      ]
    },
    {
      "cell_type": "markdown",
      "metadata": {
        "id": "c7R_-Eyj-KfK"
      },
      "source": [
        "## **Feature Selection using Variance Threshold**"
      ]
    },
    {
      "cell_type": "code",
      "execution_count": 40,
      "metadata": {
        "id": "lTjvNS5o-Hn5"
      },
      "outputs": [],
      "source": [
        "selector = VarianceThreshold(threshold=10)\n",
        "np.shape(selector.fit_transform(df))\n",
        "features_best.append(list(np.array(df.columns)[selector.get_support(indices=False)]))\n",
        "# features_best"
      ]
    },
    {
      "cell_type": "markdown",
      "metadata": {
        "id": "c4-Z88m7-UtP"
      },
      "source": [
        "***Features that occur atleast once in outputs of one of the above feature selection method***."
      ]
    },
    {
      "cell_type": "code",
      "execution_count": 41,
      "metadata": {
        "id": "sfSahgQx-O6p",
        "colab": {
          "base_uri": "https://localhost:8080/"
        },
        "outputId": "0b1da163-9728-4d9b-8369-875406fb0707"
      },
      "outputs": [
        {
          "output_type": "execute_result",
          "data": {
            "text/plain": [
              "55"
            ]
          },
          "metadata": {},
          "execution_count": 41
        }
      ],
      "source": [
        "main_cols_max = features_best[0]\n",
        "for i in range(len(features_best)-1):\n",
        "    main_cols_max = list(set(main_cols_max) | set(features_best[i+1]))\n",
        "# main_cols_max\n",
        "len(main_cols_max)"
      ]
    },
    {
      "cell_type": "markdown",
      "metadata": {
        "id": "zFhy3LOy-x9h"
      },
      "source": [
        "***Features that occur in all the outputs of the above feature selection methods.***"
      ]
    },
    {
      "cell_type": "code",
      "execution_count": 42,
      "metadata": {
        "id": "PcprPiHZ-p1p",
        "colab": {
          "base_uri": "https://localhost:8080/"
        },
        "outputId": "8b9d4625-a463-43a4-8f12-1e2bfa617eb8"
      },
      "outputs": [
        {
          "output_type": "execute_result",
          "data": {
            "text/plain": [
              "['age']"
            ]
          },
          "metadata": {},
          "execution_count": 42
        }
      ],
      "source": [
        "main_cols_min = features_best[0]\n",
        "for i in range(len(features_best)-1):\n",
        "    main_cols_min = list(set(main_cols_min).intersection(set(features_best[i+1])))\n",
        "main_cols_min"
      ]
    },
    {
      "cell_type": "markdown",
      "metadata": {
        "id": "kljUVWs3_MVj"
      },
      "source": [
        "***Most common features in all list of features***"
      ]
    },
    {
      "cell_type": "code",
      "execution_count": 43,
      "metadata": {
        "id": "W9UDPvSy-6ka",
        "colab": {
          "base_uri": "https://localhost:8080/",
          "height": 833
        },
        "outputId": "4c910e28-c1d8-462e-d411-8dcd3d7b6322"
      },
      "outputs": [
        {
          "output_type": "execute_result",
          "data": {
            "text/plain": [
              "                   Num\n",
              "age                  7\n",
              "sex_oldpeak2         6\n",
              "thal_oldpeak2        6\n",
              "chol                 6\n",
              "thalach              6\n",
              "exang_oldpeak2       6\n",
              "ca                   6\n",
              "fbs_oldpeak2         6\n",
              "sex_ca               6\n",
              "thal_chol2           5\n",
              "thal_trestbps2       5\n",
              "exang_ca             5\n",
              "restecg_oldpeak2     5\n",
              "restecg_trestbps2    5\n",
              "restecg_cp           5\n",
              "age2_ca              5\n",
              "thal_ca              5\n",
              "cp                   5\n",
              "trestbps             5\n",
              "fbs_ca               4\n",
              "age2_cp              4\n",
              "oldpeak2             4\n",
              "oldpeak              4\n",
              "restecg_slope        4\n",
              "age2_trestbps2       4"
            ],
            "text/html": [
              "\n",
              "  <div id=\"df-dc96ed26-8ca1-4e59-9dc2-aa682d30ab34\">\n",
              "    <div class=\"colab-df-container\">\n",
              "      <div>\n",
              "<style scoped>\n",
              "    .dataframe tbody tr th:only-of-type {\n",
              "        vertical-align: middle;\n",
              "    }\n",
              "\n",
              "    .dataframe tbody tr th {\n",
              "        vertical-align: top;\n",
              "    }\n",
              "\n",
              "    .dataframe thead th {\n",
              "        text-align: right;\n",
              "    }\n",
              "</style>\n",
              "<table border=\"1\" class=\"dataframe\">\n",
              "  <thead>\n",
              "    <tr style=\"text-align: right;\">\n",
              "      <th></th>\n",
              "      <th>Num</th>\n",
              "    </tr>\n",
              "  </thead>\n",
              "  <tbody>\n",
              "    <tr>\n",
              "      <th>age</th>\n",
              "      <td>7</td>\n",
              "    </tr>\n",
              "    <tr>\n",
              "      <th>sex_oldpeak2</th>\n",
              "      <td>6</td>\n",
              "    </tr>\n",
              "    <tr>\n",
              "      <th>thal_oldpeak2</th>\n",
              "      <td>6</td>\n",
              "    </tr>\n",
              "    <tr>\n",
              "      <th>chol</th>\n",
              "      <td>6</td>\n",
              "    </tr>\n",
              "    <tr>\n",
              "      <th>thalach</th>\n",
              "      <td>6</td>\n",
              "    </tr>\n",
              "    <tr>\n",
              "      <th>exang_oldpeak2</th>\n",
              "      <td>6</td>\n",
              "    </tr>\n",
              "    <tr>\n",
              "      <th>ca</th>\n",
              "      <td>6</td>\n",
              "    </tr>\n",
              "    <tr>\n",
              "      <th>fbs_oldpeak2</th>\n",
              "      <td>6</td>\n",
              "    </tr>\n",
              "    <tr>\n",
              "      <th>sex_ca</th>\n",
              "      <td>6</td>\n",
              "    </tr>\n",
              "    <tr>\n",
              "      <th>thal_chol2</th>\n",
              "      <td>5</td>\n",
              "    </tr>\n",
              "    <tr>\n",
              "      <th>thal_trestbps2</th>\n",
              "      <td>5</td>\n",
              "    </tr>\n",
              "    <tr>\n",
              "      <th>exang_ca</th>\n",
              "      <td>5</td>\n",
              "    </tr>\n",
              "    <tr>\n",
              "      <th>restecg_oldpeak2</th>\n",
              "      <td>5</td>\n",
              "    </tr>\n",
              "    <tr>\n",
              "      <th>restecg_trestbps2</th>\n",
              "      <td>5</td>\n",
              "    </tr>\n",
              "    <tr>\n",
              "      <th>restecg_cp</th>\n",
              "      <td>5</td>\n",
              "    </tr>\n",
              "    <tr>\n",
              "      <th>age2_ca</th>\n",
              "      <td>5</td>\n",
              "    </tr>\n",
              "    <tr>\n",
              "      <th>thal_ca</th>\n",
              "      <td>5</td>\n",
              "    </tr>\n",
              "    <tr>\n",
              "      <th>cp</th>\n",
              "      <td>5</td>\n",
              "    </tr>\n",
              "    <tr>\n",
              "      <th>trestbps</th>\n",
              "      <td>5</td>\n",
              "    </tr>\n",
              "    <tr>\n",
              "      <th>fbs_ca</th>\n",
              "      <td>4</td>\n",
              "    </tr>\n",
              "    <tr>\n",
              "      <th>age2_cp</th>\n",
              "      <td>4</td>\n",
              "    </tr>\n",
              "    <tr>\n",
              "      <th>oldpeak2</th>\n",
              "      <td>4</td>\n",
              "    </tr>\n",
              "    <tr>\n",
              "      <th>oldpeak</th>\n",
              "      <td>4</td>\n",
              "    </tr>\n",
              "    <tr>\n",
              "      <th>restecg_slope</th>\n",
              "      <td>4</td>\n",
              "    </tr>\n",
              "    <tr>\n",
              "      <th>age2_trestbps2</th>\n",
              "      <td>4</td>\n",
              "    </tr>\n",
              "  </tbody>\n",
              "</table>\n",
              "</div>\n",
              "      <button class=\"colab-df-convert\" onclick=\"convertToInteractive('df-dc96ed26-8ca1-4e59-9dc2-aa682d30ab34')\"\n",
              "              title=\"Convert this dataframe to an interactive table.\"\n",
              "              style=\"display:none;\">\n",
              "        \n",
              "  <svg xmlns=\"http://www.w3.org/2000/svg\" height=\"24px\"viewBox=\"0 0 24 24\"\n",
              "       width=\"24px\">\n",
              "    <path d=\"M0 0h24v24H0V0z\" fill=\"none\"/>\n",
              "    <path d=\"M18.56 5.44l.94 2.06.94-2.06 2.06-.94-2.06-.94-.94-2.06-.94 2.06-2.06.94zm-11 1L8.5 8.5l.94-2.06 2.06-.94-2.06-.94L8.5 2.5l-.94 2.06-2.06.94zm10 10l.94 2.06.94-2.06 2.06-.94-2.06-.94-.94-2.06-.94 2.06-2.06.94z\"/><path d=\"M17.41 7.96l-1.37-1.37c-.4-.4-.92-.59-1.43-.59-.52 0-1.04.2-1.43.59L10.3 9.45l-7.72 7.72c-.78.78-.78 2.05 0 2.83L4 21.41c.39.39.9.59 1.41.59.51 0 1.02-.2 1.41-.59l7.78-7.78 2.81-2.81c.8-.78.8-2.07 0-2.86zM5.41 20L4 18.59l7.72-7.72 1.47 1.35L5.41 20z\"/>\n",
              "  </svg>\n",
              "      </button>\n",
              "      \n",
              "  <style>\n",
              "    .colab-df-container {\n",
              "      display:flex;\n",
              "      flex-wrap:wrap;\n",
              "      gap: 12px;\n",
              "    }\n",
              "\n",
              "    .colab-df-convert {\n",
              "      background-color: #E8F0FE;\n",
              "      border: none;\n",
              "      border-radius: 50%;\n",
              "      cursor: pointer;\n",
              "      display: none;\n",
              "      fill: #1967D2;\n",
              "      height: 32px;\n",
              "      padding: 0 0 0 0;\n",
              "      width: 32px;\n",
              "    }\n",
              "\n",
              "    .colab-df-convert:hover {\n",
              "      background-color: #E2EBFA;\n",
              "      box-shadow: 0px 1px 2px rgba(60, 64, 67, 0.3), 0px 1px 3px 1px rgba(60, 64, 67, 0.15);\n",
              "      fill: #174EA6;\n",
              "    }\n",
              "\n",
              "    [theme=dark] .colab-df-convert {\n",
              "      background-color: #3B4455;\n",
              "      fill: #D2E3FC;\n",
              "    }\n",
              "\n",
              "    [theme=dark] .colab-df-convert:hover {\n",
              "      background-color: #434B5C;\n",
              "      box-shadow: 0px 1px 3px 1px rgba(0, 0, 0, 0.15);\n",
              "      filter: drop-shadow(0px 1px 2px rgba(0, 0, 0, 0.3));\n",
              "      fill: #FFFFFF;\n",
              "    }\n",
              "  </style>\n",
              "\n",
              "      <script>\n",
              "        const buttonEl =\n",
              "          document.querySelector('#df-dc96ed26-8ca1-4e59-9dc2-aa682d30ab34 button.colab-df-convert');\n",
              "        buttonEl.style.display =\n",
              "          google.colab.kernel.accessAllowed ? 'block' : 'none';\n",
              "\n",
              "        async function convertToInteractive(key) {\n",
              "          const element = document.querySelector('#df-dc96ed26-8ca1-4e59-9dc2-aa682d30ab34');\n",
              "          const dataTable =\n",
              "            await google.colab.kernel.invokeFunction('convertToInteractive',\n",
              "                                                     [key], {});\n",
              "          if (!dataTable) return;\n",
              "\n",
              "          const docLinkHtml = 'Like what you see? Visit the ' +\n",
              "            '<a target=\"_blank\" href=https://colab.research.google.com/notebooks/data_table.ipynb>data table notebook</a>'\n",
              "            + ' to learn more about interactive tables.';\n",
              "          element.innerHTML = '';\n",
              "          dataTable['output_type'] = 'display_data';\n",
              "          await google.colab.output.renderOutput(dataTable, element);\n",
              "          const docLink = document.createElement('div');\n",
              "          docLink.innerHTML = docLinkHtml;\n",
              "          element.appendChild(docLink);\n",
              "        }\n",
              "      </script>\n",
              "    </div>\n",
              "  </div>\n",
              "  "
            ]
          },
          "metadata": {},
          "execution_count": 43
        }
      ],
      "source": [
        "main_cols = []\n",
        "main_cols_opt = {feature_name : 0 for feature_name in df.columns.tolist()}\n",
        "for i in range(len(features_best)):\n",
        "    for feature_name in features_best[i]:\n",
        "        main_cols_opt[feature_name] += 1\n",
        "df_main_cols_opt = pd.DataFrame.from_dict(main_cols_opt, orient='index', columns=['Num'])\n",
        "df_main_cols_opt.sort_values(by=['Num'], ascending=False).head(num_features_opt)"
      ]
    },
    {
      "cell_type": "markdown",
      "metadata": {
        "id": "9E3MdcAJ_fbz"
      },
      "source": [
        "*Adding **target** to the selected features*"
      ]
    },
    {
      "cell_type": "code",
      "execution_count": 44,
      "metadata": {
        "id": "AwVhqPOu_Ui1"
      },
      "outputs": [],
      "source": [
        "main_cols = df_main_cols_opt.nlargest(num_features_opt, 'Num').index.tolist()\n",
        "if not 'target' in main_cols:\n",
        "    main_cols.append('target')\n",
        "# main_cols"
      ]
    },
    {
      "cell_type": "markdown",
      "metadata": {
        "id": "Bun9ygNA_qCi"
      },
      "source": [
        "***Saving the selected features***"
      ]
    },
    {
      "cell_type": "code",
      "execution_count": 45,
      "metadata": {
        "id": "0FMjs4xx_oUd"
      },
      "outputs": [],
      "source": [
        "df_fs = df[main_cols]\n",
        "df_fs.to_csv('final_data_FE+FS.csv',index=False)"
      ]
    },
    {
      "cell_type": "markdown",
      "metadata": {
        "id": "QOcHgsM-AXM5"
      },
      "source": [
        "# **Data-Preparation**"
      ]
    },
    {
      "cell_type": "code",
      "execution_count": 46,
      "metadata": {
        "id": "PyYlV0-y_1ct",
        "colab": {
          "base_uri": "https://localhost:8080/",
          "height": 318
        },
        "outputId": "b859579c-2a9e-4181-8a3a-0350f45d3508"
      },
      "outputs": [
        {
          "output_type": "stream",
          "name": "stdout",
          "text": [
            "Shape: (283, 26)\n"
          ]
        },
        {
          "output_type": "execute_result",
          "data": {
            "text/plain": [
              "      age   chol  thalach   ca  sex_oldpeak2  sex_ca  fbs_oldpeak2  \\\n",
              "52   41.0  172.0    158.0  0.0             8       4             0   \n",
              "39   61.0  330.0    169.0  0.0             0       0             0   \n",
              "144  53.0  226.0    111.0  0.0             8       4             0   \n",
              "192  59.0  271.0    182.0  0.0             8       4             0   \n",
              "48   44.0  219.0    188.0  0.0             8       4             0   \n",
              "\n",
              "     exang_oldpeak2  thal_oldpeak2  cp  ...  thal_trestbps2  thal_chol2  \\\n",
              "52                0             18   0  ...              17          13   \n",
              "39                0              9   0  ...              11          10   \n",
              "144               9             18   0  ...              20          14   \n",
              "192               0              9   0  ...              11           8   \n",
              "48                0              9   1  ...              11           7   \n",
              "\n",
              "     thal_ca  oldpeak  oldpeak2  sex_trestbps2  sex_chol2  age2_cp  \\\n",
              "52        10      0.0       0.0             10          8        5   \n",
              "39         5      0.0       0.0              3          5       13   \n",
              "144       10      0.0       0.0             13          9        9   \n",
              "192        5      0.0       0.0             12         10        9   \n",
              "48         5      0.0       0.0             12          9        6   \n",
              "\n",
              "     age2_trestbps2  target  \n",
              "52                7       1  \n",
              "39               24       1  \n",
              "144              16       0  \n",
              "192              15       0  \n",
              "48                9       0  \n",
              "\n",
              "[5 rows x 26 columns]"
            ],
            "text/html": [
              "\n",
              "  <div id=\"df-80b743df-0a00-4a7e-b09b-684e1062f179\">\n",
              "    <div class=\"colab-df-container\">\n",
              "      <div>\n",
              "<style scoped>\n",
              "    .dataframe tbody tr th:only-of-type {\n",
              "        vertical-align: middle;\n",
              "    }\n",
              "\n",
              "    .dataframe tbody tr th {\n",
              "        vertical-align: top;\n",
              "    }\n",
              "\n",
              "    .dataframe thead th {\n",
              "        text-align: right;\n",
              "    }\n",
              "</style>\n",
              "<table border=\"1\" class=\"dataframe\">\n",
              "  <thead>\n",
              "    <tr style=\"text-align: right;\">\n",
              "      <th></th>\n",
              "      <th>age</th>\n",
              "      <th>chol</th>\n",
              "      <th>thalach</th>\n",
              "      <th>ca</th>\n",
              "      <th>sex_oldpeak2</th>\n",
              "      <th>sex_ca</th>\n",
              "      <th>fbs_oldpeak2</th>\n",
              "      <th>exang_oldpeak2</th>\n",
              "      <th>thal_oldpeak2</th>\n",
              "      <th>cp</th>\n",
              "      <th>...</th>\n",
              "      <th>thal_trestbps2</th>\n",
              "      <th>thal_chol2</th>\n",
              "      <th>thal_ca</th>\n",
              "      <th>oldpeak</th>\n",
              "      <th>oldpeak2</th>\n",
              "      <th>sex_trestbps2</th>\n",
              "      <th>sex_chol2</th>\n",
              "      <th>age2_cp</th>\n",
              "      <th>age2_trestbps2</th>\n",
              "      <th>target</th>\n",
              "    </tr>\n",
              "  </thead>\n",
              "  <tbody>\n",
              "    <tr>\n",
              "      <th>52</th>\n",
              "      <td>41.0</td>\n",
              "      <td>172.0</td>\n",
              "      <td>158.0</td>\n",
              "      <td>0.0</td>\n",
              "      <td>8</td>\n",
              "      <td>4</td>\n",
              "      <td>0</td>\n",
              "      <td>0</td>\n",
              "      <td>18</td>\n",
              "      <td>0</td>\n",
              "      <td>...</td>\n",
              "      <td>17</td>\n",
              "      <td>13</td>\n",
              "      <td>10</td>\n",
              "      <td>0.0</td>\n",
              "      <td>0.0</td>\n",
              "      <td>10</td>\n",
              "      <td>8</td>\n",
              "      <td>5</td>\n",
              "      <td>7</td>\n",
              "      <td>1</td>\n",
              "    </tr>\n",
              "    <tr>\n",
              "      <th>39</th>\n",
              "      <td>61.0</td>\n",
              "      <td>330.0</td>\n",
              "      <td>169.0</td>\n",
              "      <td>0.0</td>\n",
              "      <td>0</td>\n",
              "      <td>0</td>\n",
              "      <td>0</td>\n",
              "      <td>0</td>\n",
              "      <td>9</td>\n",
              "      <td>0</td>\n",
              "      <td>...</td>\n",
              "      <td>11</td>\n",
              "      <td>10</td>\n",
              "      <td>5</td>\n",
              "      <td>0.0</td>\n",
              "      <td>0.0</td>\n",
              "      <td>3</td>\n",
              "      <td>5</td>\n",
              "      <td>13</td>\n",
              "      <td>24</td>\n",
              "      <td>1</td>\n",
              "    </tr>\n",
              "    <tr>\n",
              "      <th>144</th>\n",
              "      <td>53.0</td>\n",
              "      <td>226.0</td>\n",
              "      <td>111.0</td>\n",
              "      <td>0.0</td>\n",
              "      <td>8</td>\n",
              "      <td>4</td>\n",
              "      <td>0</td>\n",
              "      <td>9</td>\n",
              "      <td>18</td>\n",
              "      <td>0</td>\n",
              "      <td>...</td>\n",
              "      <td>20</td>\n",
              "      <td>14</td>\n",
              "      <td>10</td>\n",
              "      <td>0.0</td>\n",
              "      <td>0.0</td>\n",
              "      <td>13</td>\n",
              "      <td>9</td>\n",
              "      <td>9</td>\n",
              "      <td>16</td>\n",
              "      <td>0</td>\n",
              "    </tr>\n",
              "    <tr>\n",
              "      <th>192</th>\n",
              "      <td>59.0</td>\n",
              "      <td>271.0</td>\n",
              "      <td>182.0</td>\n",
              "      <td>0.0</td>\n",
              "      <td>8</td>\n",
              "      <td>4</td>\n",
              "      <td>0</td>\n",
              "      <td>0</td>\n",
              "      <td>9</td>\n",
              "      <td>0</td>\n",
              "      <td>...</td>\n",
              "      <td>11</td>\n",
              "      <td>8</td>\n",
              "      <td>5</td>\n",
              "      <td>0.0</td>\n",
              "      <td>0.0</td>\n",
              "      <td>12</td>\n",
              "      <td>10</td>\n",
              "      <td>9</td>\n",
              "      <td>15</td>\n",
              "      <td>0</td>\n",
              "    </tr>\n",
              "    <tr>\n",
              "      <th>48</th>\n",
              "      <td>44.0</td>\n",
              "      <td>219.0</td>\n",
              "      <td>188.0</td>\n",
              "      <td>0.0</td>\n",
              "      <td>8</td>\n",
              "      <td>4</td>\n",
              "      <td>0</td>\n",
              "      <td>0</td>\n",
              "      <td>9</td>\n",
              "      <td>1</td>\n",
              "      <td>...</td>\n",
              "      <td>11</td>\n",
              "      <td>7</td>\n",
              "      <td>5</td>\n",
              "      <td>0.0</td>\n",
              "      <td>0.0</td>\n",
              "      <td>12</td>\n",
              "      <td>9</td>\n",
              "      <td>6</td>\n",
              "      <td>9</td>\n",
              "      <td>0</td>\n",
              "    </tr>\n",
              "  </tbody>\n",
              "</table>\n",
              "<p>5 rows × 26 columns</p>\n",
              "</div>\n",
              "      <button class=\"colab-df-convert\" onclick=\"convertToInteractive('df-80b743df-0a00-4a7e-b09b-684e1062f179')\"\n",
              "              title=\"Convert this dataframe to an interactive table.\"\n",
              "              style=\"display:none;\">\n",
              "        \n",
              "  <svg xmlns=\"http://www.w3.org/2000/svg\" height=\"24px\"viewBox=\"0 0 24 24\"\n",
              "       width=\"24px\">\n",
              "    <path d=\"M0 0h24v24H0V0z\" fill=\"none\"/>\n",
              "    <path d=\"M18.56 5.44l.94 2.06.94-2.06 2.06-.94-2.06-.94-.94-2.06-.94 2.06-2.06.94zm-11 1L8.5 8.5l.94-2.06 2.06-.94-2.06-.94L8.5 2.5l-.94 2.06-2.06.94zm10 10l.94 2.06.94-2.06 2.06-.94-2.06-.94-.94-2.06-.94 2.06-2.06.94z\"/><path d=\"M17.41 7.96l-1.37-1.37c-.4-.4-.92-.59-1.43-.59-.52 0-1.04.2-1.43.59L10.3 9.45l-7.72 7.72c-.78.78-.78 2.05 0 2.83L4 21.41c.39.39.9.59 1.41.59.51 0 1.02-.2 1.41-.59l7.78-7.78 2.81-2.81c.8-.78.8-2.07 0-2.86zM5.41 20L4 18.59l7.72-7.72 1.47 1.35L5.41 20z\"/>\n",
              "  </svg>\n",
              "      </button>\n",
              "      \n",
              "  <style>\n",
              "    .colab-df-container {\n",
              "      display:flex;\n",
              "      flex-wrap:wrap;\n",
              "      gap: 12px;\n",
              "    }\n",
              "\n",
              "    .colab-df-convert {\n",
              "      background-color: #E8F0FE;\n",
              "      border: none;\n",
              "      border-radius: 50%;\n",
              "      cursor: pointer;\n",
              "      display: none;\n",
              "      fill: #1967D2;\n",
              "      height: 32px;\n",
              "      padding: 0 0 0 0;\n",
              "      width: 32px;\n",
              "    }\n",
              "\n",
              "    .colab-df-convert:hover {\n",
              "      background-color: #E2EBFA;\n",
              "      box-shadow: 0px 1px 2px rgba(60, 64, 67, 0.3), 0px 1px 3px 1px rgba(60, 64, 67, 0.15);\n",
              "      fill: #174EA6;\n",
              "    }\n",
              "\n",
              "    [theme=dark] .colab-df-convert {\n",
              "      background-color: #3B4455;\n",
              "      fill: #D2E3FC;\n",
              "    }\n",
              "\n",
              "    [theme=dark] .colab-df-convert:hover {\n",
              "      background-color: #434B5C;\n",
              "      box-shadow: 0px 1px 3px 1px rgba(0, 0, 0, 0.15);\n",
              "      filter: drop-shadow(0px 1px 2px rgba(0, 0, 0, 0.3));\n",
              "      fill: #FFFFFF;\n",
              "    }\n",
              "  </style>\n",
              "\n",
              "      <script>\n",
              "        const buttonEl =\n",
              "          document.querySelector('#df-80b743df-0a00-4a7e-b09b-684e1062f179 button.colab-df-convert');\n",
              "        buttonEl.style.display =\n",
              "          google.colab.kernel.accessAllowed ? 'block' : 'none';\n",
              "\n",
              "        async function convertToInteractive(key) {\n",
              "          const element = document.querySelector('#df-80b743df-0a00-4a7e-b09b-684e1062f179');\n",
              "          const dataTable =\n",
              "            await google.colab.kernel.invokeFunction('convertToInteractive',\n",
              "                                                     [key], {});\n",
              "          if (!dataTable) return;\n",
              "\n",
              "          const docLinkHtml = 'Like what you see? Visit the ' +\n",
              "            '<a target=\"_blank\" href=https://colab.research.google.com/notebooks/data_table.ipynb>data table notebook</a>'\n",
              "            + ' to learn more about interactive tables.';\n",
              "          element.innerHTML = '';\n",
              "          dataTable['output_type'] = 'display_data';\n",
              "          await google.colab.output.renderOutput(dataTable, element);\n",
              "          const docLink = document.createElement('div');\n",
              "          docLink.innerHTML = docLinkHtml;\n",
              "          element.appendChild(docLink);\n",
              "        }\n",
              "      </script>\n",
              "    </div>\n",
              "  </div>\n",
              "  "
            ]
          },
          "metadata": {},
          "execution_count": 46
        }
      ],
      "source": [
        "df = df_fs\n",
        "print(f\"Shape: {df.shape}\")\n",
        "df.sample(5)"
      ]
    },
    {
      "cell_type": "code",
      "execution_count": 47,
      "metadata": {
        "id": "DrkqTZYxAjd8",
        "colab": {
          "base_uri": "https://localhost:8080/"
        },
        "outputId": "d6e914c8-583e-4ad2-8a36-2d8e9a3eedfd"
      },
      "outputs": [
        {
          "output_type": "stream",
          "name": "stdout",
          "text": [
            "X shape: (283, 25)\n",
            "y shape: (283,)\n"
          ]
        }
      ],
      "source": [
        "X = df.drop('target',axis=1)\n",
        "y = df.target\n",
        "\n",
        "print(f\"X shape: {X.shape}\")\n",
        "print(f\"y shape: {y.shape}\")"
      ]
    },
    {
      "cell_type": "markdown",
      "metadata": {
        "id": "jBTBR0E0ClEK"
      },
      "source": [
        "## **SMOTE**"
      ]
    },
    {
      "cell_type": "markdown",
      "metadata": {
        "id": "VxC6PkyuBgBY"
      },
      "source": [
        "* *The distribution of class labels in the target variable are somewhat imbalanced, with S4,S3,S2,S1 and H having 11,29,33,52,158 samples respectively.*\n",
        "\n",
        "* *With such few samples in S1,S2,S3 and S4 training a model to identify these classes isn't pragmatic. Hence, in order to avoid the class imbalance problem, we will perform **synthetic minority oversampling (SMOTE)** to generate samples of the minority classes*\n",
        "\n",
        ">![](https://miro.medium.com/max/1400/1*GJY7UnJ4WCzqgtrfkCvkdA.png)"
      ]
    },
    {
      "cell_type": "markdown",
      "metadata": {
        "id": "swydXjbVE6Lu"
      },
      "source": [
        "## ***Splitting the data into training and testing sets***"
      ]
    },
    {
      "cell_type": "markdown",
      "metadata": {
        "id": "z8W2dRhGFYDF"
      },
      "source": [
        "## **Helper Functions**\n",
        "\n",
        "1. `plot_roc_cm(model_name,cm,n_classes, fpr, tpr, roc_auc,class_report_df,average = \"macro\"):`\n",
        "  * **model_name**: Name of the algorithm\n",
        "  * **cm**: Confusion matrix\n",
        "  * **n_classes**: Number of unique class labels in the target variable\n",
        "  * **fpr**: Numpy array of false positive rate values corresponding to each class.\n",
        "  * **tpr**: Numpy array of true positive rate values corresponding to each class.\n",
        "  * **roc_auc**: Numpy array of auc values corresponding to each class.\n",
        "  * **class_report_df**: output dataframe of the **class_report** helper function.\n",
        "\n",
        "2. `class_report(model_name,y_true, y_pred, y_score=None, average='macro'):`\n",
        "  * **model_name**: Name of the algorithm\n",
        "  * **y_true**: True label values\n",
        "  * **y_pred**: Predicted label values\n",
        "  * **y_score**: Predicted probability of class label values\n",
        "  * **average**: \"micro\",\"macro\".\n",
        "\n",
        "3. `kfold(model,n_splits,X,y):`\n",
        "\n",
        "  * **model**: Model on which k-fold cross validation is to be performed\n",
        "  * **n_splits**: Number of folds/splits\n",
        "  * **X**: Features\n",
        "  * **y**: target vector.\n",
        "\n",
        "4. `grid_search(estimator, params, X_train,y_train,cv=10):`\n",
        "\n",
        "  * estimator: Model using which gridsearch is to be performed\n",
        "  * params: Parameter grid\n",
        "  * X_train: Training features\n",
        "  * y_train: Training target vector\n",
        "  * cv: Nummber of times cross-validation is to performed."
      ]
    },
    {
      "cell_type": "markdown",
      "metadata": {
        "id": "rbWxtkucF5y1"
      },
      "source": [
        "\n",
        "\n",
        "# **Conclusion**\n",
        "\n",
        "\n",
        "\n",
        "*   As seen from the graph above, stacking and voting classifiers out perform all the other models in terms of Accuracy, F-1 Score and AUC.\n",
        "*   Detection of heart diseases is inherently a very tough task, and using machine learning models, can help make this task a little easier.\n",
        "\n"
      ]
    }
  ],
  "metadata": {
    "colab": {
      "collapsed_sections": [],
      "name": "Classification.ipynb",
      "provenance": []
    },
    "kernelspec": {
      "display_name": "Python 3",
      "language": "python",
      "name": "python3"
    },
    "language_info": {
      "codemirror_mode": {
        "name": "ipython",
        "version": 3
      },
      "file_extension": ".py",
      "mimetype": "text/x-python",
      "name": "python",
      "nbconvert_exporter": "python",
      "pygments_lexer": "ipython3",
      "version": "3.7.6"
    }
  },
  "nbformat": 4,
  "nbformat_minor": 0
}